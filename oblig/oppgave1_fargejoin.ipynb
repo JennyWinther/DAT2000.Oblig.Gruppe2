{
 "cells": [
  {
   "cell_type": "code",
   "execution_count": null,
   "id": "initial_id",
   "metadata": {
    "collapsed": true
   },
   "outputs": [],
   "source": [
    "import polars as pl"
   ]
  },
  {
   "cell_type": "code",
   "outputs": [],
   "source": [
    "df = pl.read_parquet(\"kjoretoyinfo_fra_2020.parquet\")\n",
    "df"
   ],
   "metadata": {
    "collapsed": false
   },
   "id": "52b0332bf7b0866c",
   "execution_count": null
  },
  {
   "cell_type": "code",
   "outputs": [],
   "source": [
    "# Denne er viktig fordi data er ikke unikt identifisert av kolonnene våre\n",
    "# Vi får trøbbel når vi skal gjøre group by senere - noen (forskjellige) biler har identiske data. \n",
    "df = df.with_row_index(\"id\")\n",
    "df"
   ],
   "metadata": {
    "collapsed": false
   },
   "id": "3b0e130c8ba8a15a",
   "execution_count": null
  },
  {
   "cell_type": "code",
   "outputs": [],
   "source": [
    "# Vi leser inn fargekodene\n",
    "fargekode = pl.read_csv(\"fargekode.csv\", separator=\";\", dtypes={\"kode\":str})\n",
    "fargekode"
   ],
   "metadata": {
    "collapsed": false
   },
   "id": "81baaa88b8146b42",
   "execution_count": null
  },
  {
   "cell_type": "code",
   "outputs": [],
   "source": [
    "# Legg merke til at tekn_farge i df har 0 først. \n",
    "# Dette må vi fikse også i fargekode for å kunne joine.\n",
    "# Vi vil også bytte navn på \"beskrivelse\"-kolonna til noe mer fornuftig. \n",
    "fargekode = fargekode.with_columns(\n",
    "    pl.col(\"kode\").str.pad_start(2, \"0\")\n",
    ").rename(\n",
    "    {\"beskrivelse\":\"farge_navn\"}\n",
    ")\n",
    "fargekode"
   ],
   "metadata": {
    "collapsed": false
   },
   "id": "cb95c541f1d86aff",
   "execution_count": null
  },
  {
   "cell_type": "code",
   "outputs": [],
   "source": [
    "# Her ser vi at vi har litt trøbbel\n",
    "# Noen kjøretøy har flere farger! \n",
    "df.sort(pl.col(\"tekn_farge\").str.len_chars(), nulls_last=True, descending=True)"
   ],
   "metadata": {
    "collapsed": false
   },
   "id": "e7dcf2f3d52ccec9",
   "execution_count": null
  },
  {
   "cell_type": "code",
   "outputs": [],
   "source": [
    "# Vi må gjøre en liten jobb for å kunne joine hver fargekode med fargen sin. \n",
    "# Først så lager vi en nøstet liste inne i hver kolonne ved å splitte på.\n",
    "df = df.with_columns(pl.col(\"tekn_farge\").str.split(\",\"))\n",
    "df"
   ],
   "metadata": {
    "collapsed": false
   },
   "id": "41702ed6852af257",
   "execution_count": null
  },
  {
   "cell_type": "code",
   "outputs": [],
   "source": [
    "# Her er et eksempel på hvordan slike rader ser ut nå:\n",
    "df.sort(pl.col(\"tekn_farge\").list.len(), nulls_last=True, descending=True).head(2).select(\"id\", \"tekn_farge\")"
   ],
   "metadata": {
    "collapsed": false
   },
   "id": "6a612038d0824bed",
   "execution_count": null
  },
  {
   "cell_type": "code",
   "outputs": [],
   "source": [
    "# Nå \"sprenger\" vi denne liste-kolonnen, og lager i stedet for en ny rad pr. listeelement i tekn_farge hvor de andre radene er identiske. \n",
    "df = df.explode(\"tekn_farge\")\n",
    "df"
   ],
   "metadata": {
    "collapsed": false
   },
   "id": "161f212ede5e919e",
   "execution_count": null
  },
  {
   "cell_type": "code",
   "outputs": [],
   "source": [
    "# Sammenlign en av radene som hadde mange farger tidligere\n",
    "df.filter(pl.col(\"id\") == pl.lit(95018)).select(\"id\", \"tekn_farge\")"
   ],
   "metadata": {
    "collapsed": false
   },
   "id": "cba144557b595710",
   "execution_count": null
  },
  {
   "cell_type": "code",
   "outputs": [],
   "source": [
    "# Med left join så mister vi ingen biler vi ikke vet fargen på. \n",
    "df = df.join(fargekode, left_on=\"tekn_farge\", right_on=\"kode\", how=\"left\")\n",
    "df"
   ],
   "metadata": {
    "collapsed": false
   },
   "id": "f5786f844fc925b3",
   "execution_count": null
  },
  {
   "cell_type": "code",
   "outputs": [],
   "source": [
    "# Vi observerer at vi har fått tak i farge_navn for en av bilene med flere farger. \n",
    "# Men nå vil vi normalisere litt igjen. \n",
    "df.filter(pl.col(\"id\") == pl.lit(95018)).select(\"id\", \"tekn_farge\", \"farge_navn\")"
   ],
   "metadata": {
    "collapsed": false
   },
   "id": "bfa1bc3ac2e4ae34",
   "execution_count": null
  },
  {
   "cell_type": "code",
   "outputs": [],
   "source": [
    "# Vi grupperer på alle kolonner som ikke er tekn farge og farge navn.\n",
    "# Se https://docs.pola.rs/user-guide/expressions/column-selections/\n",
    "# Vi aggregerer farge_navn og tekn_farge - dette samler bare opp kolonnene som nøstede kolonner (liste-kolonner). \n",
    "# Fra liste-kolonnene kan vi joine elementene inne i listene til strenger. \n",
    "df = df.group_by(pl.col(\"*\").exclude(\"tekn_farge\", \"farge_navn\")).agg(\n",
    "    pl.col(\"farge_navn\"),\n",
    "    pl.col(\"tekn_farge\"),\n",
    ").with_columns(\n",
    "    pl.col(\"farge_navn\").list.join(\",\"),\n",
    "    pl.col(\"tekn_farge\").list.join(\",\")\n",
    ")\n",
    "df"
   ],
   "metadata": {
    "collapsed": false
   },
   "id": "f7298be623788570",
   "execution_count": null
  },
  {
   "cell_type": "code",
   "outputs": [],
   "source": [
    "# Vi sjekker hvordan bilen vår endte opp:\n",
    "df.filter(pl.col(\"id\") == pl.lit(95018)).select(\"id\", \"tekn_farge\", \"farge_navn\")"
   ],
   "metadata": {
    "collapsed": false
   },
   "id": "2f981ae3487ad066",
   "execution_count": null
  }
 ],
 "metadata": {
  "kernelspec": {
   "display_name": "Python 3",
   "language": "python",
   "name": "python3"
  },
  "language_info": {
   "codemirror_mode": {
    "name": "ipython",
    "version": 2
   },
   "file_extension": ".py",
   "mimetype": "text/x-python",
   "name": "python",
   "nbconvert_exporter": "python",
   "pygments_lexer": "ipython2",
   "version": "2.7.6"
  }
 },
 "nbformat": 4,
 "nbformat_minor": 5
}
