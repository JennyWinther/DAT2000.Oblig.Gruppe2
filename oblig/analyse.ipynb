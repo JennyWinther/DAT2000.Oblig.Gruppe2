{
 "cells": [
  {
   "cell_type": "markdown",
   "source": [
    "Oppgave 1.7: Hvor mange elbiler ble førstegangsregistrert i 2022\n",
    "    Leser fra preppet parquet fil laget i oppg. 1.6"
   ],
   "metadata": {
    "collapsed": false
   },
   "id": "7c1626eea9c33c76"
  },
  {
   "cell_type": "code",
   "outputs": [
    {
     "name": "stdout",
     "output_type": "stream",
     "text": [
      "Antall Elbiler registrert i 2022 er: 37249\n"
     ]
    }
   ],
   "source": [
    "import polars as pl\n",
    "\n",
    "kp = pl.read_parquet('kjoretoy_preppet.parquet')\n",
    "\n",
    "df_ant_el_2022 = kp.filter(\n",
    "    (pl.col('tekn_reg_f_g_n').cast(str).str.contains('2022')) \n",
    "    & (pl.col('Er_Elbil') == True)\n",
    ")\n",
    "\n",
    "print(f\"Antall Elbiler registrert i 2022 er: {df_ant_el_2022.height}\")"
   ],
   "metadata": {
    "collapsed": true,
    "ExecuteTime": {
     "end_time": "2024-03-27T15:46:20.465482200Z",
     "start_time": "2024-03-27T15:46:19.904400900Z"
    }
   },
   "id": "initial_id",
   "execution_count": 1
  },
  {
   "cell_type": "markdown",
   "source": [
    "Oppgave 1.8: Hvor mange prosent av persbilene solgt i 2022 var elbiler\n",
    "    Her leser vi fra tekn_reg_eier_dato og sjekker at datoen starter med året 2022, da det er slik dataen er strukturert."
   ],
   "metadata": {
    "collapsed": false
   },
   "id": "e94024fe01027a74"
  },
  {
   "cell_type": "code",
   "outputs": [
    {
     "name": "stdout",
     "output_type": "stream",
     "text": [
      "Antall Elbiler registrert på ny eier i 2022: 38670\n",
      "Antall alle biler registrert på ny eier i 2022: 133994\n",
      "Prosent som er elbil: 28.86\n"
     ]
    }
   ],
   "source": [
    "antallElbil = len(kp.filter((pl.col('tekn_reg_eier_dato').cast(str).str.starts_with('2022')) & (pl.col('Er_Elbil') == True)))\n",
    "\n",
    "antallBilerTotalt = len(kp.filter(pl.col('tekn_reg_eier_dato').cast(str).str.starts_with('2022')))\n",
    "\n",
    "prosent =((antallElbil / antallBilerTotalt) * 100).__round__(2)\n",
    "\n",
    "print(f\"Antall Elbiler registrert på ny eier i 2022: {antallElbil}\")\n",
    "print(f\"Antall alle biler registrert på ny eier i 2022: {antallBilerTotalt}\")\n",
    "print(f\"Prosent som er elbil: {prosent}\")"
   ],
   "metadata": {
    "collapsed": false,
    "ExecuteTime": {
     "end_time": "2024-03-26T10:46:14.563155Z",
     "start_time": "2024-03-26T10:46:14.480280300Z"
    }
   },
   "id": "8221ea3b0416c6ca",
   "execution_count": 42
  },
  {
   "cell_type": "markdown",
   "source": [
    "Oppg 1.9: Hvilken bilmodell var mest populær i 2022\n",
    "    Jeg tolker denne oppgaven til å bety mest populær å kjøpe, ergo vi ser på førstegangsregistrerte biler. \n",
    "    Vi filtrerer ut alle biler fra 2022, og teller antall hendelser av modellen. Deretter sorterer vi listen etter count, synkende.\n",
    "    Hjelpedatasett Kjøretøygrupper er brukt ved siden av. "
   ],
   "metadata": {
    "collapsed": false
   },
   "id": "354a549702665c0f"
  },
  {
   "cell_type": "code",
   "outputs": [
    {
     "data": {
      "text/plain": "shape: (1_592, 2)\n┌─────────────────┬───────┐\n│ tekn_modell     ┆ count │\n│ ---             ┆ ---   │\n│ str             ┆ u32   │\n╞═════════════════╪═══════╡\n│ Model Y         ┆ 8719  │\n│ ID.4 GTX 220 KW ┆ 4021  │\n│ XC40            ┆ 3001  │\n│ IONIQ5          ┆ 2890  │\n│ …               ┆ …     │\n│ E 320 KOMBI     ┆ 1     │\n│ AMG GT R        ┆ 1     │\n│ X3 xDrive35d    ┆ 1     │\n│ 330 CIA         ┆ 1     │\n└─────────────────┴───────┘",
      "text/html": "<div><style>\n.dataframe > thead > tr,\n.dataframe > tbody > tr {\n  text-align: right;\n  white-space: pre-wrap;\n}\n</style>\n<small>shape: (1_592, 2)</small><table border=\"1\" class=\"dataframe\"><thead><tr><th>tekn_modell</th><th>count</th></tr><tr><td>str</td><td>u32</td></tr></thead><tbody><tr><td>&quot;Model Y&quot;</td><td>8719</td></tr><tr><td>&quot;ID.4 GTX 220 K…</td><td>4021</td></tr><tr><td>&quot;XC40&quot;</td><td>3001</td></tr><tr><td>&quot;IONIQ5&quot;</td><td>2890</td></tr><tr><td>&quot;ENYAQ 80X&quot;</td><td>2799</td></tr><tr><td>&quot;Polestar 2&quot;</td><td>2413</td></tr><tr><td>&quot;Mustang Mach-E…</td><td>2389</td></tr><tr><td>&quot;RAV4&quot;</td><td>2009</td></tr><tr><td>&quot;E TRON 55&quot;</td><td>1975</td></tr><tr><td>&quot;Kona&quot;</td><td>1918</td></tr><tr><td>&quot;C40&quot;</td><td>1893</td></tr><tr><td>&quot;i4 M50&quot;</td><td>1871</td></tr><tr><td>&hellip;</td><td>&hellip;</td></tr><tr><td>&quot;AC Cobra repli…</td><td>1</td></tr><tr><td>&quot;CAYMAN&quot;</td><td>1</td></tr><tr><td>&quot;SL 450&quot;</td><td>1</td></tr><tr><td>&quot;110F&quot;</td><td>1</td></tr><tr><td>&quot;LS 600h L&quot;</td><td>1</td></tr><tr><td>&quot;RANGE ROVER SP…</td><td>1</td></tr><tr><td>&quot;645 CI&quot;</td><td>1</td></tr><tr><td>&quot;340i&quot;</td><td>1</td></tr><tr><td>&quot;E 320 KOMBI&quot;</td><td>1</td></tr><tr><td>&quot;AMG GT R&quot;</td><td>1</td></tr><tr><td>&quot;X3 xDrive35d&quot;</td><td>1</td></tr><tr><td>&quot;330 CIA&quot;</td><td>1</td></tr></tbody></table></div>"
     },
     "execution_count": 46,
     "metadata": {},
     "output_type": "execute_result"
    }
   ],
   "source": [
    "biler2022 = kp.filter(pl.col('tekn_reg_f_g_n').cast(str).str.starts_with('2022') & (pl.col('tekn_kjtgrp') == 101))\n",
    "\n",
    "populæreBiler = biler2022.group_by(\"tekn_modell\").count()\n",
    "\n",
    "populæreBiler.sort(pl.col('count'), descending=True)"
   ],
   "metadata": {
    "collapsed": false,
    "ExecuteTime": {
     "end_time": "2024-03-26T11:03:21.610368900Z",
     "start_time": "2024-03-26T11:03:21.546067600Z"
    }
   },
   "id": "6d8356c1d9a5985f",
   "execution_count": 46
  },
  {
   "cell_type": "markdown",
   "source": [
    "Oppg 1.10: Hvor mange gule kjøretøy ble solgt i mai 2022?\n",
    "    Sorterer datasettet på førstegangsregistrerte biler i mai, 2022, som også er av typen personbil. \n",
    "    For gøy regner jeg ut både antall gule personbiler, og gule kjøretøy av alle typer totalt. \n",
    "    Hjelpedatasett Fargekoder er brukt ved siden av. "
   ],
   "metadata": {
    "collapsed": false
   },
   "id": "40ace91271a4f097"
  },
  {
   "cell_type": "code",
   "outputs": [
    {
     "name": "stdout",
     "output_type": "stream",
     "text": [
      "Antall gule personbiler: 33\n",
      "Antall gule kjøretøy totalt: 74\n"
     ]
    }
   ],
   "source": [
    "personbiler = kp.filter(pl.col('tekn_reg_f_g_n').cast(str).str.starts_with('202205') & (pl.col('tekn_kjtgrp') == 101))\n",
    "allekjøretøy = kp.filter(pl.col('tekn_reg_f_g_n').cast(str).str.starts_with('202205'))\n",
    "\n",
    "gulebiler = len(personbiler.filter(pl.col('tekn_farge').cast(str).str.contains('09')))\n",
    "gulekjøretøy = len(allekjøretøy.filter(pl.col('tekn_farge').cast(str).str.contains('09')))\n",
    "\n",
    "print(f\"Antall gule personbiler: {gulebiler}\")\n",
    "print(f\"Antall gule kjøretøy totalt: {gulekjøretøy}\")"
   ],
   "metadata": {
    "collapsed": false,
    "ExecuteTime": {
     "end_time": "2024-03-26T11:31:14.529747100Z",
     "start_time": "2024-03-26T11:31:14.473993500Z"
    }
   },
   "id": "d927e423188a76d2",
   "execution_count": 71
  },
  {
   "cell_type": "markdown",
   "source": [
    "Oppg 1.11: Hvor stor andel av personbilene som selges i Norge har firehjulstrekk?\n",
    "    Siden det ikke defineres noe årstall for salg, så tolker jeg at det betyr alle personbilene noen gang registrert i Norge.\n",
    "    Vi filtrerer først ut alle personbiler, og deretter ut alle som ikke har 2 aksler i drift. "
   ],
   "metadata": {
    "collapsed": false
   },
   "id": "565e22a526e37386"
  },
  {
   "cell_type": "code",
   "outputs": [
    {
     "name": "stdout",
     "output_type": "stream",
     "text": [
      "Antall biler solgt totalt i Norge med firehjulstrekk: 192688\n"
     ]
    }
   ],
   "source": [
    "personbilerAlle = kp.filter(pl.col('tekn_kjtgrp') == 101)\n",
    "\n",
    "firehjulstrekk = len(personbilerAlle.filter(pl.col('tekn_aksler_drift') == 2))\n",
    "\n",
    "print(f\"Antall biler solgt totalt i Norge med firehjulstrekk: {firehjulstrekk}\")"
   ],
   "metadata": {
    "collapsed": false,
    "ExecuteTime": {
     "end_time": "2024-03-26T12:02:30.024224500Z",
     "start_time": "2024-03-26T12:02:29.982684700Z"
    }
   },
   "id": "40b33777bb7b4829",
   "execution_count": 80
  },
  {
   "cell_type": "markdown",
   "source": [
    "Oppg 1.12: Hvilken måned i året førstegangsregistreres det flest biler i Norge?\n",
    "    I denne oppgaven valgte vi å returnere en tabell over alle 12 måneder som viser antall registrerte biler totalt i datasett i denne måneden. \n",
    "    Siden det ikke defineres noe spesielt kjøretøy, valgte vi å definere \"bil\" som alt i hjelpedatasettet Kjøretøygrupper som inneholder ordet \"bil\". (koder: 101-381)\n",
    "    Vi omformer dato til Date, og henter ut måneden. Vi filtrerer ut alle kjøretøy som har gruppe lik eller mindre enn 381. Deretter grupperer vi på måneden, og teller antall som inneholder den måneden. Deretter sorterer vi på count, slik at de mest populære månedene kommer først. \n",
    "    Dette gjelder for alle år sammenlagt.\n",
    "    "
   ],
   "metadata": {
    "collapsed": false
   },
   "id": "170a412755c0e4ef"
  },
  {
   "cell_type": "code",
   "outputs": [
    {
     "data": {
      "text/plain": "shape: (12, 2)\n┌───────┬───────┐\n│ måned ┆ count │\n│ ---   ┆ ---   │\n│ i8    ┆ u32   │\n╞═══════╪═══════╡\n│ 12    ┆ 57978 │\n│ 6     ┆ 41440 │\n│ 3     ┆ 40727 │\n│ 9     ┆ 38833 │\n│ …     ┆ …     │\n│ 4     ┆ 27959 │\n│ 2     ┆ 26791 │\n│ 1     ┆ 24909 │\n│ 7     ┆ 24294 │\n└───────┴───────┘",
      "text/html": "<div><style>\n.dataframe > thead > tr,\n.dataframe > tbody > tr {\n  text-align: right;\n  white-space: pre-wrap;\n}\n</style>\n<small>shape: (12, 2)</small><table border=\"1\" class=\"dataframe\"><thead><tr><th>måned</th><th>count</th></tr><tr><td>i8</td><td>u32</td></tr></thead><tbody><tr><td>12</td><td>57978</td></tr><tr><td>6</td><td>41440</td></tr><tr><td>3</td><td>40727</td></tr><tr><td>9</td><td>38833</td></tr><tr><td>11</td><td>37217</td></tr><tr><td>8</td><td>35557</td></tr><tr><td>5</td><td>31839</td></tr><tr><td>10</td><td>31400</td></tr><tr><td>4</td><td>27959</td></tr><tr><td>2</td><td>26791</td></tr><tr><td>1</td><td>24909</td></tr><tr><td>7</td><td>24294</td></tr></tbody></table></div>"
     },
     "execution_count": 117,
     "metadata": {},
     "output_type": "execute_result"
    }
   ],
   "source": [
    "dato = kp.with_columns(\n",
    "    måned = pl.col('tekn_reg_f_g_n').cast(str).str.strptime(pl.Date, format='%Y %m %d', strict=False).dt.month(), \n",
    ")\n",
    "\n",
    "verifiserteBiler = dato.filter(pl.col('tekn_kjtgrp') <= 381)\n",
    "\n",
    "verifiserteBiler.group_by('måned').count().sort('count', descending=True)"
   ],
   "metadata": {
    "collapsed": false,
    "ExecuteTime": {
     "end_time": "2024-03-26T12:43:07.167783300Z",
     "start_time": "2024-03-26T12:43:07.050119300Z"
    }
   },
   "id": "41cd97b7ecfbb127",
   "execution_count": 117
  },
  {
   "cell_type": "markdown",
   "source": [
    "Oppg 1.13: Hva var den mest populære fargen for førstegangsregistrerte biler i Norge i hvert år?\n",
    "    Denne oppgaven gjorde vi omtrent samtidig med 1.16, og logikken er derfor den samme. Referte til hjelpedatasett Fargekoder: 06 - Svart, 05 - Grå.\n",
    "    "
   ],
   "metadata": {
    "collapsed": false
   },
   "id": "16b8ced516877d35"
  },
  {
   "cell_type": "code",
   "outputs": [
    {
     "data": {
      "text/plain": "shape: (5, 2)\n┌──────┬─────────────────────┐\n│ år   ┆ mest_populære_farge │\n│ ---  ┆ ---                 │\n│ i32  ┆ str                 │\n╞══════╪═════════════════════╡\n│ 2024 ┆ 06                  │\n│ 2023 ┆ 06                  │\n│ 2022 ┆ 06                  │\n│ 2021 ┆ 05                  │\n│ 2020 ┆ 05                  │\n└──────┴─────────────────────┘",
      "text/html": "<div><style>\n.dataframe > thead > tr,\n.dataframe > tbody > tr {\n  text-align: right;\n  white-space: pre-wrap;\n}\n</style>\n<small>shape: (5, 2)</small><table border=\"1\" class=\"dataframe\"><thead><tr><th>år</th><th>mest_populære_farge</th></tr><tr><td>i32</td><td>str</td></tr></thead><tbody><tr><td>2024</td><td>&quot;06&quot;</td></tr><tr><td>2023</td><td>&quot;06&quot;</td></tr><tr><td>2022</td><td>&quot;06&quot;</td></tr><tr><td>2021</td><td>&quot;05&quot;</td></tr><tr><td>2020</td><td>&quot;05&quot;</td></tr></tbody></table></div>"
     },
     "execution_count": 47,
     "metadata": {},
     "output_type": "execute_result"
    }
   ],
   "source": [
    "alleBiler = kp.with_columns(\n",
    "    år = pl.col('tekn_reg_f_g_n').cast(str).str.strptime(pl.Date, format='%Y %m %d', strict=False).dt.year(),\n",
    ")\n",
    "grupperteBiler = alleBiler.group_by('år').count().sort('count', descending=True)\n",
    "                                                      \n",
    "topp5Farger = []\n",
    "alleÅr = grupperteBiler.head(5)\n",
    "\n",
    "for år in alleÅr['år']:\n",
    "    filtrertDf = alleBiler.filter(pl.col('år') == år)\n",
    "    grupperteFarger = filtrertDf.group_by('tekn_farge').count().sort('count', descending=True)\n",
    "\n",
    "    mestPopFarge = grupperteFarger.head(1)['tekn_farge'][0]\n",
    "    topp5Farger.append(mestPopFarge)\n",
    "\n",
    "mestPopBilMedMestPopFarge = pl.DataFrame({'år': alleÅr['år'], 'mest_populære_farge': topp5Farger})\n",
    "\n",
    "mestPopBilMedMestPopFarge.sort('år', descending=True)\n"
   ],
   "metadata": {
    "collapsed": false,
    "ExecuteTime": {
     "end_time": "2024-03-27T17:12:00.123632600Z",
     "start_time": "2024-03-27T17:11:59.866543300Z"
    }
   },
   "id": "2d57c3d708f26bdb",
   "execution_count": 47
  },
  {
   "cell_type": "markdown",
   "source": [
    "Oppg 1.14: Hvilken farge var den mest populære for traktorer i 2022?\n",
    "    Hjelpedatasettet Kjøretøygrupper er brukt.\n",
    "    Jeg tolker som at det gjelder for traktorer med ny eier i 2022. Først filtrer jeg ut alle traktorer, så filtrerer jeg alle traktorer med nyregistrert eier i 2022. For å vise frem riktig tall pr farge, grupperer jeg på farge og sorterer slik at høyeste tallet kommer først. Siden jeg ikke har med årstallet i tabellen, gir jeg tekn_farge et passende forklarende alias."
   ],
   "metadata": {
    "collapsed": false
   },
   "id": "1c2f8c8ee1e9a9c3"
  },
  {
   "cell_type": "code",
   "outputs": [
    {
     "data": {
      "text/plain": "shape: (1, 2)\n┌─────────────────────┬───────┐\n│ Mest_Pop_Farge_2022 ┆ count │\n│ ---                 ┆ ---   │\n│ str                 ┆ u32   │\n╞═════════════════════╪═══════╡\n│ 04                  ┆ 1740  │\n└─────────────────────┴───────┘",
      "text/html": "<div><style>\n.dataframe > thead > tr,\n.dataframe > tbody > tr {\n  text-align: right;\n  white-space: pre-wrap;\n}\n</style>\n<small>shape: (1, 2)</small><table border=\"1\" class=\"dataframe\"><thead><tr><th>Mest_Pop_Farge_2022</th><th>count</th></tr><tr><td>str</td><td>u32</td></tr></thead><tbody><tr><td>&quot;04&quot;</td><td>1740</td></tr></tbody></table></div>"
     },
     "execution_count": 14,
     "metadata": {},
     "output_type": "execute_result"
    }
   ],
   "source": [
    "alleTraktorer = kp.filter((pl.col('tekn_kjtgrp') == 401))\n",
    "traktorerI22 = alleTraktorer.filter(pl.col('tekn_reg_eier_dato').cast(str).str.strptime(pl.Date, format='%Y %m %d').dt.year() == 2022)\n",
    "\n",
    "mestPopFarge = traktorerI22.group_by(pl.col('tekn_farge').alias('Mest_Pop_Farge_2022')).count().sort('count', descending=True)\n",
    "\n",
    "mestPopFarge.limit(1)\n"
   ],
   "metadata": {
    "collapsed": false,
    "ExecuteTime": {
     "end_time": "2024-03-27T16:09:13.519698900Z",
     "start_time": "2024-03-27T16:09:13.482538800Z"
    }
   },
   "id": "9e2346bb85495f90",
   "execution_count": 14
  },
  {
   "cell_type": "markdown",
   "source": [
    "Oppg 1.15: Hvilke bilmerker var de 5 mest populære i 2022?\n",
    "    Siden ikke \"bil\" er videre definert, gjør jeg som i tidligere oppgave, og definerer bil som alle kjøretøygrupper bestående av kjøretøy som inneholder ordet \"bil\". (Gruppe 101 - 381)\n",
    "    Siden 1.16 bygger på denne oppg, så bruker jeg førstegangsregistrert i Norge 2022 som utgangspunkt for dato.\n",
    "    Jeg filterer først ut alle biler, så ut de med riktig årstall. Deretter grupperer jeg på merke, og teller, og deretter begrenser jeg resultat-tabellen til 5 rader. \n",
    "    "
   ],
   "metadata": {
    "collapsed": false
   },
   "id": "1e026907f08fa577"
  },
  {
   "cell_type": "code",
   "outputs": [
    {
     "data": {
      "text/plain": "shape: (5, 2)\n┌───────┬───────┐\n│ merke ┆ count │\n│ ---   ┆ ---   │\n│ i64   ┆ u32   │\n╞═══════╪═══════╡\n│ 5750  ┆ 51988 │\n│ 5480  ┆ 40368 │\n│ 4360  ┆ 38966 │\n│ 3900  ┆ 28341 │\n│ 5800  ┆ 28069 │\n└───────┴───────┘",
      "text/html": "<div><style>\n.dataframe > thead > tr,\n.dataframe > tbody > tr {\n  text-align: right;\n  white-space: pre-wrap;\n}\n</style>\n<small>shape: (5, 2)</small><table border=\"1\" class=\"dataframe\"><thead><tr><th>merke</th><th>count</th></tr><tr><td>i64</td><td>u32</td></tr></thead><tbody><tr><td>5750</td><td>51988</td></tr><tr><td>5480</td><td>40368</td></tr><tr><td>4360</td><td>38966</td></tr><tr><td>3900</td><td>28341</td></tr><tr><td>5800</td><td>28069</td></tr></tbody></table></div>"
     },
     "execution_count": 16,
     "metadata": {},
     "output_type": "execute_result"
    }
   ],
   "source": [
    "bilmerker = kp.filter(pl.col('tekn_kjtgrp') <= 381)\n",
    "\n",
    "bilmerkerI22 = bilmerker.filter(pl.col('tekn_reg_f_g_n').cast(str).str.strptime(pl.Date, format='%Y %m %d').dt.year() == 2022)\n",
    "\n",
    "resultat = bilmerker.group_by(pl.col('tekn_merke').alias('merke')).count().sort('count', descending=True)\n",
    "\n",
    "resultat.limit(5)"
   ],
   "metadata": {
    "collapsed": false,
    "ExecuteTime": {
     "end_time": "2024-03-27T16:16:42.588016200Z",
     "start_time": "2024-03-27T16:16:42.506833400Z"
    }
   },
   "id": "6228fe0943aa9c59",
   "execution_count": 16
  },
  {
   "cell_type": "markdown",
   "source": [
    "Oppg 1.16: Hva var den mest populære fargen for de fem mest populære bilmerkene i 2022 (førstegangsregistrert i 2022)?\n",
    "    Denne oppg bygger videre på dataframe laget i forrige oppgave. Først så grupperer vi etter merke, og teller merkene slik som tidligere. Vi legger de 5 mest populære inn i en variabel, og itererer over den. For hver bil i Topp5Biler, filtrer original dataframe slik at den består bare av bilmerket. Deretter, gjør en rangering av fargene, og plukk ut den mest populære - så legg den i en liste over topp5Farger.\n",
    "    Til slutt, lag en NY dataframe med innholdet. For gøy, sorterte jeg resultattabellen for å vise bilmerkekode synkende. "
   ],
   "metadata": {
    "collapsed": false
   },
   "id": "36ec4814d2494f84"
  },
  {
   "cell_type": "code",
   "outputs": [
    {
     "data": {
      "text/plain": "shape: (5, 2)\n┌────────────┬─────────────────────┐\n│ tekn_merke ┆ mest_populære_farge │\n│ ---        ┆ ---                 │\n│ i64        ┆ str                 │\n╞════════════╪═════════════════════╡\n│ 5800       ┆ 06                  │\n│ 5750       ┆ 01                  │\n│ 5480       ┆ 05                  │\n│ 4360       ┆ 06                  │\n│ 3900       ┆ 05                  │\n└────────────┴─────────────────────┘",
      "text/html": "<div><style>\n.dataframe > thead > tr,\n.dataframe > tbody > tr {\n  text-align: right;\n  white-space: pre-wrap;\n}\n</style>\n<small>shape: (5, 2)</small><table border=\"1\" class=\"dataframe\"><thead><tr><th>tekn_merke</th><th>mest_populære_farge</th></tr><tr><td>i64</td><td>str</td></tr></thead><tbody><tr><td>5800</td><td>&quot;06&quot;</td></tr><tr><td>5750</td><td>&quot;01&quot;</td></tr><tr><td>5480</td><td>&quot;05&quot;</td></tr><tr><td>4360</td><td>&quot;06&quot;</td></tr><tr><td>3900</td><td>&quot;05&quot;</td></tr></tbody></table></div>"
     },
     "execution_count": 46,
     "metadata": {},
     "output_type": "execute_result"
    }
   ],
   "source": [
    "grupperteBiler = bilmerkerI22.group_by('tekn_merke').count().sort('count', descending=True)\n",
    "                                                      \n",
    "topp5Farger = []\n",
    "topp5Biler = grupperteBiler.head(5)\n",
    "\n",
    "for bil in topp5Biler['tekn_merke']:\n",
    "    filtrerteBiler = bilmerkerI22.filter(pl.col('tekn_merke') == bil)\n",
    "    grupperteFarger = filtrerteBiler.group_by('tekn_farge').count().sort('count', descending=True)\n",
    "\n",
    "    mestPopFarge = grupperteFarger.head(1)['tekn_farge'][0]\n",
    "    topp5Farger.append(mestPopFarge)\n",
    "\n",
    "mestPopBilMedMestPopFarge = pl.DataFrame({'tekn_merke': topp5Biler['tekn_merke'], 'mest_populære_farge': topp5Farger})\n",
    "\n",
    "mestPopBilMedMestPopFarge.sort('tekn_merke', descending=True)\n"
   ],
   "metadata": {
    "collapsed": false,
    "ExecuteTime": {
     "end_time": "2024-03-27T16:46:48.577174800Z",
     "start_time": "2024-03-27T16:46:48.331872400Z"
    }
   },
   "id": "fbdd2a15e866e83b",
   "execution_count": 46
  }
 ],
 "metadata": {
  "kernelspec": {
   "display_name": "Python 3",
   "language": "python",
   "name": "python3"
  },
  "language_info": {
   "codemirror_mode": {
    "name": "ipython",
    "version": 2
   },
   "file_extension": ".py",
   "mimetype": "text/x-python",
   "name": "python",
   "nbconvert_exporter": "python",
   "pygments_lexer": "ipython2",
   "version": "2.7.6"
  }
 },
 "nbformat": 4,
 "nbformat_minor": 5
}
