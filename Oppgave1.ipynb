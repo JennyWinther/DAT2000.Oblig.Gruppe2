{
 "cells": [
  {
   "cell_type": "code",
   "execution_count": 62,
   "id": "initial_id",
   "metadata": {
    "collapsed": true,
    "ExecuteTime": {
     "end_time": "2024-03-25T12:05:12.248619Z",
     "start_time": "2024-03-25T12:05:12.156595700Z"
    }
   },
   "outputs": [
    {
     "data": {
      "text/plain": "shape: (554_219, 11)\n┌───────────┬───────────┬───────────┬───────────┬───┬───────────┬───────────┬───────────┬──────────┐\n│ tekn_reg_ ┆ tekn_reg_ ┆ tekn_reg_ ┆ tekn_merk ┆ … ┆ tekn_sist ┆ tekn_nest ┆ tekn_aksl ┆ tekn_sit │\n│ f_g       ┆ f_g_n     ┆ eier_dato ┆ e         ┆   ┆ e_pkk     ┆ e_pkk     ┆ er_drift  ┆ teplasse │\n│ ---       ┆ ---       ┆ ---       ┆ ---       ┆   ┆ ---       ┆ ---       ┆ ---       ┆ r_totalt │\n│ i64       ┆ i64       ┆ i64       ┆ i64       ┆   ┆ str       ┆ str       ┆ i64       ┆ ---      │\n│           ┆           ┆           ┆           ┆   ┆           ┆           ┆           ┆ i64      │\n╞═══════════╪═══════════╪═══════════╪═══════════╪═══╪═══════════╪═══════════╪═══════════╪══════════╡\n│ 20211013  ┆ 20211013  ┆ 20211013  ┆ 3900      ┆ … ┆ null      ┆ 20251013  ┆ 2         ┆ 3        │\n│ 20200129  ┆ 20200129  ┆ 20200129  ┆ 5750      ┆ … ┆ 20231205  ┆ 20260129  ┆ 2         ┆ 2        │\n│ 20231129  ┆ 20231129  ┆ 20231129  ┆ 2600      ┆ … ┆ null      ┆ 20271129  ┆ 1         ┆ 5        │\n│ 20200127  ┆ 20200127  ┆ 20200127  ┆ 5750      ┆ … ┆ null      ┆ 20240127  ┆ 2         ┆ 2        │\n│ …         ┆ …         ┆ …         ┆ …         ┆ … ┆ …         ┆ …         ┆ …         ┆ …        │\n│ 20230901  ┆ 20230901  ┆ 20230901  ┆ 320       ┆ … ┆ null      ┆ null      ┆ 0         ┆ null     │\n│ 20201229  ┆ 20201229  ┆ 20201229  ┆ 4000      ┆ … ┆ null      ┆ 20241229  ┆ 1         ┆ 5        │\n│ 20221207  ┆ 20221207  ┆ 20221207  ┆ 4360      ┆ … ┆ null      ┆ 20261207  ┆ 2         ┆ 5        │\n│ 20210819  ┆ 20210819  ┆ 20210819  ┆ 3900      ┆ … ┆ 20230814  ┆ 20240819  ┆ 1         ┆ 2        │\n└───────────┴───────────┴───────────┴───────────┴───┴───────────┴───────────┴───────────┴──────────┘",
      "text/html": "<div><style>\n.dataframe > thead > tr,\n.dataframe > tbody > tr {\n  text-align: right;\n  white-space: pre-wrap;\n}\n</style>\n<small>shape: (554_219, 11)</small><table border=\"1\" class=\"dataframe\"><thead><tr><th>tekn_reg_f_g</th><th>tekn_reg_f_g_n</th><th>tekn_reg_eier_dato</th><th>tekn_merke</th><th>tekn_modell</th><th>tekn_farge</th><th>tekn_drivstoff</th><th>tekn_siste_pkk</th><th>tekn_neste_pkk</th><th>tekn_aksler_drift</th><th>tekn_sitteplasser_totalt</th></tr><tr><td>i64</td><td>i64</td><td>i64</td><td>i64</td><td>str</td><td>str</td><td>str</td><td>str</td><td>str</td><td>i64</td><td>i64</td></tr></thead><tbody><tr><td>20211013</td><td>20211013</td><td>20211013</td><td>3900</td><td>&quot;VITO&quot;</td><td>&quot;05&quot;</td><td>&quot;2&quot;</td><td>null</td><td>&quot;20251013&quot;</td><td>2</td><td>3</td></tr><tr><td>20200129</td><td>20200129</td><td>20200129</td><td>5750</td><td>&quot;CADDY&quot;</td><td>&quot;06&quot;</td><td>&quot;2&quot;</td><td>&quot;20231205&quot;</td><td>&quot;20260129&quot;</td><td>2</td><td>2</td></tr><tr><td>20231129</td><td>20231129</td><td>20231129</td><td>2600</td><td>&quot;Mustang Mach-E…</td><td>&quot;06&quot;</td><td>&quot;5&quot;</td><td>null</td><td>&quot;20271129&quot;</td><td>1</td><td>5</td></tr><tr><td>20200127</td><td>20200127</td><td>20200127</td><td>5750</td><td>&quot;CADDY&quot;</td><td>&quot;01&quot;</td><td>&quot;2&quot;</td><td>null</td><td>&quot;20240127&quot;</td><td>2</td><td>2</td></tr><tr><td>20200519</td><td>20200519</td><td>20200519</td><td>5750</td><td>&quot;CRAFTER&quot;</td><td>&quot;01&quot;</td><td>&quot;2&quot;</td><td>null</td><td>&quot;20240519&quot;</td><td>1</td><td>3</td></tr><tr><td>20200911</td><td>20200911</td><td>20220216</td><td>5150</td><td>&quot;CITIGO&quot;</td><td>&quot;01&quot;</td><td>&quot;5&quot;</td><td>null</td><td>&quot;20240911&quot;</td><td>1</td><td>4</td></tr><tr><td>20220512</td><td>20220512</td><td>20220512</td><td>5480</td><td>&quot;YARIS&quot;</td><td>&quot;04&quot;</td><td>&quot;1,5&quot;</td><td>null</td><td>&quot;20260512&quot;</td><td>1</td><td>5</td></tr><tr><td>20221104</td><td>20221104</td><td>20221104</td><td>5480</td><td>&quot;RAV4&quot;</td><td>&quot;06&quot;</td><td>&quot;1,5,5&quot;</td><td>null</td><td>&quot;20261104&quot;</td><td>2</td><td>5</td></tr><tr><td>20210421</td><td>20210421</td><td>20210421</td><td>5480</td><td>&quot;TOYOTA LAND CR…</td><td>&quot;01&quot;</td><td>&quot;2&quot;</td><td>null</td><td>&quot;20250421&quot;</td><td>2</td><td>2</td></tr><tr><td>20231027</td><td>20231027</td><td>20231027</td><td>8670</td><td>&quot;N175&quot;</td><td>&quot;06&quot;</td><td>&quot;2&quot;</td><td>&quot;20271027&quot;</td><td>&quot;79&quot;</td><td>2</td><td>2</td></tr><tr><td>20230502</td><td>20230502</td><td>20230502</td><td>4360</td><td>&quot;Model Y&quot;</td><td>&quot;01&quot;</td><td>&quot;5,5&quot;</td><td>null</td><td>&quot;20270502&quot;</td><td>2</td><td>5</td></tr><tr><td>20220331</td><td>20220331</td><td>20230206</td><td>2600</td><td>&quot;Kuga&quot;</td><td>&quot;01&quot;</td><td>&quot;1,5&quot;</td><td>null</td><td>&quot;20260331&quot;</td><td>2</td><td>5</td></tr><tr><td>&hellip;</td><td>&hellip;</td><td>&hellip;</td><td>&hellip;</td><td>&hellip;</td><td>&hellip;</td><td>&hellip;</td><td>&hellip;</td><td>&hellip;</td><td>&hellip;</td><td>&hellip;</td></tr><tr><td>20230420</td><td>20230420</td><td>20230420</td><td>2001</td><td>&quot;NISSAN ARIYA&quot;</td><td>&quot;02&quot;</td><td>&quot;5&quot;</td><td>null</td><td>&quot;20270420&quot;</td><td>2</td><td>5</td></tr><tr><td>20201218</td><td>20201218</td><td>20201218</td><td>5040</td><td>&quot;R 650&quot;</td><td>&quot;01&quot;</td><td>&quot;2&quot;</td><td>&quot;20231213&quot;</td><td>&quot;20241222&quot;</td><td>2</td><td>2</td></tr><tr><td>20210330</td><td>20210330</td><td>20211216</td><td>5480</td><td>&quot;TOYOTA RAV4&quot;</td><td>&quot;05&quot;</td><td>&quot;1,5,5&quot;</td><td>null</td><td>&quot;20250330&quot;</td><td>2</td><td>5</td></tr><tr><td>20210830</td><td>20210830</td><td>20210901</td><td>5150</td><td>&quot;ENYAQ 80&quot;</td><td>&quot;03&quot;</td><td>&quot;5&quot;</td><td>null</td><td>&quot;20250830&quot;</td><td>1</td><td>5</td></tr><tr><td>20200901</td><td>20200901</td><td>20240201</td><td>4360</td><td>&quot;Model 3&quot;</td><td>&quot;06&quot;</td><td>&quot;5,5&quot;</td><td>null</td><td>&quot;20240901&quot;</td><td>2</td><td>5</td></tr><tr><td>20210827</td><td>20210827</td><td>20220222</td><td>5800</td><td>&quot;XC40&quot;</td><td>&quot;01&quot;</td><td>&quot;5,5&quot;</td><td>null</td><td>&quot;20250827&quot;</td><td>2</td><td>5</td></tr><tr><td>20210809</td><td>20210809</td><td>20210809</td><td>258</td><td>&quot;KW 18&quot;</td><td>&quot;03&quot;</td><td>&quot;2&quot;</td><td>null</td><td>&quot;20250809&quot;</td><td>1</td><td>4</td></tr><tr><td>20211021</td><td>20211021</td><td>20211021</td><td>3900</td><td>&quot;GLE 350 de 4MA…</td><td>&quot;03&quot;</td><td>&quot;2,5&quot;</td><td>null</td><td>&quot;20251021&quot;</td><td>2</td><td>5</td></tr><tr><td>20230901</td><td>20230901</td><td>20230901</td><td>320</td><td>&quot;Adora 573 PT&quot;</td><td>&quot;01&quot;</td><td>null</td><td>null</td><td>null</td><td>0</td><td>null</td></tr><tr><td>20201229</td><td>20201229</td><td>20201229</td><td>4000</td><td>&quot;MG ZS EV&quot;</td><td>&quot;02&quot;</td><td>&quot;5&quot;</td><td>null</td><td>&quot;20241229&quot;</td><td>1</td><td>5</td></tr><tr><td>20221207</td><td>20221207</td><td>20221207</td><td>4360</td><td>&quot;Model Y&quot;</td><td>&quot;03&quot;</td><td>&quot;5,5&quot;</td><td>null</td><td>&quot;20261207&quot;</td><td>2</td><td>5</td></tr><tr><td>20210819</td><td>20210819</td><td>20210819</td><td>3900</td><td>&quot;Sprinter&quot;</td><td>&quot;09&quot;</td><td>&quot;2&quot;</td><td>&quot;20230814&quot;</td><td>&quot;20240819&quot;</td><td>1</td><td>2</td></tr></tbody></table></div>"
     },
     "execution_count": 62,
     "metadata": {},
     "output_type": "execute_result"
    }
   ],
   "source": [
    "import polars as pl\n",
    "\n",
    "kjoretoy_scan = pl.read_parquet(\"kjoretoyinfo_fra_2020.parquet\")\n",
    "kjoretoy_scan"
   ]
  },
  {
   "cell_type": "code",
   "outputs": [
    {
     "data": {
      "text/plain": "shape: (554_219, 6)\n┌──────────────┬────────────────┬────────────────┬────────────────┬────────────────┬───────────────┐\n│ tekn_reg_f_g ┆ Førstegangsreg ┆ tekn_neste_pkk ┆ EU_Kont_Neste_ ┆ tekn_reg_eier_ ┆ Registrerings │\n│ ---          ┆ istrert_Dato   ┆ ---            ┆ Dato           ┆ dato           ┆ dato_Eier     │\n│ i64          ┆ ---            ┆ str            ┆ ---            ┆ ---            ┆ ---           │\n│              ┆ date           ┆                ┆ date           ┆ i64            ┆ date          │\n╞══════════════╪════════════════╪════════════════╪════════════════╪════════════════╪═══════════════╡\n│ 20211013     ┆ 2021-10-13     ┆ 20251013       ┆ 2025-10-13     ┆ 20211013       ┆ 2021-10-13    │\n│ 20200129     ┆ 2020-01-29     ┆ 20260129       ┆ 2026-01-29     ┆ 20200129       ┆ 2020-01-29    │\n│ 20231129     ┆ 2023-11-29     ┆ 20271129       ┆ 2027-11-29     ┆ 20231129       ┆ 2023-11-29    │\n│ 20200127     ┆ 2020-01-27     ┆ 20240127       ┆ 2024-01-27     ┆ 20200127       ┆ 2020-01-27    │\n│ …            ┆ …              ┆ …              ┆ …              ┆ …              ┆ …             │\n│ 20230901     ┆ 2023-09-01     ┆ null           ┆ null           ┆ 20230901       ┆ 2023-09-01    │\n│ 20201229     ┆ 2020-12-29     ┆ 20241229       ┆ 2024-12-29     ┆ 20201229       ┆ 2020-12-29    │\n│ 20221207     ┆ 2022-12-07     ┆ 20261207       ┆ 2026-12-07     ┆ 20221207       ┆ 2022-12-07    │\n│ 20210819     ┆ 2021-08-19     ┆ 20240819       ┆ 2024-08-19     ┆ 20210819       ┆ 2021-08-19    │\n└──────────────┴────────────────┴────────────────┴────────────────┴────────────────┴───────────────┘",
      "text/html": "<div><style>\n.dataframe > thead > tr,\n.dataframe > tbody > tr {\n  text-align: right;\n  white-space: pre-wrap;\n}\n</style>\n<small>shape: (554_219, 6)</small><table border=\"1\" class=\"dataframe\"><thead><tr><th>tekn_reg_f_g</th><th>Førstegangsregistrert_Dato</th><th>tekn_neste_pkk</th><th>EU_Kont_Neste_Dato</th><th>tekn_reg_eier_dato</th><th>Registreringsdato_Eier</th></tr><tr><td>i64</td><td>date</td><td>str</td><td>date</td><td>i64</td><td>date</td></tr></thead><tbody><tr><td>20211013</td><td>2021-10-13</td><td>&quot;20251013&quot;</td><td>2025-10-13</td><td>20211013</td><td>2021-10-13</td></tr><tr><td>20200129</td><td>2020-01-29</td><td>&quot;20260129&quot;</td><td>2026-01-29</td><td>20200129</td><td>2020-01-29</td></tr><tr><td>20231129</td><td>2023-11-29</td><td>&quot;20271129&quot;</td><td>2027-11-29</td><td>20231129</td><td>2023-11-29</td></tr><tr><td>20200127</td><td>2020-01-27</td><td>&quot;20240127&quot;</td><td>2024-01-27</td><td>20200127</td><td>2020-01-27</td></tr><tr><td>20200519</td><td>2020-05-19</td><td>&quot;20240519&quot;</td><td>2024-05-19</td><td>20200519</td><td>2020-05-19</td></tr><tr><td>20200911</td><td>2020-09-11</td><td>&quot;20240911&quot;</td><td>2024-09-11</td><td>20220216</td><td>2022-02-16</td></tr><tr><td>20220512</td><td>2022-05-12</td><td>&quot;20260512&quot;</td><td>2026-05-12</td><td>20220512</td><td>2022-05-12</td></tr><tr><td>20221104</td><td>2022-11-04</td><td>&quot;20261104&quot;</td><td>2026-11-04</td><td>20221104</td><td>2022-11-04</td></tr><tr><td>20210421</td><td>2021-04-21</td><td>&quot;20250421&quot;</td><td>2025-04-21</td><td>20210421</td><td>2021-04-21</td></tr><tr><td>20231027</td><td>2023-10-27</td><td>&quot;79&quot;</td><td>null</td><td>20231027</td><td>2023-10-27</td></tr><tr><td>20230502</td><td>2023-05-02</td><td>&quot;20270502&quot;</td><td>2027-05-02</td><td>20230502</td><td>2023-05-02</td></tr><tr><td>20220331</td><td>2022-03-31</td><td>&quot;20260331&quot;</td><td>2026-03-31</td><td>20230206</td><td>2023-02-06</td></tr><tr><td>&hellip;</td><td>&hellip;</td><td>&hellip;</td><td>&hellip;</td><td>&hellip;</td><td>&hellip;</td></tr><tr><td>20230420</td><td>2023-04-20</td><td>&quot;20270420&quot;</td><td>2027-04-20</td><td>20230420</td><td>2023-04-20</td></tr><tr><td>20201218</td><td>2020-12-18</td><td>&quot;20241222&quot;</td><td>2024-12-22</td><td>20201218</td><td>2020-12-18</td></tr><tr><td>20210330</td><td>2021-03-30</td><td>&quot;20250330&quot;</td><td>2025-03-30</td><td>20211216</td><td>2021-12-16</td></tr><tr><td>20210830</td><td>2021-08-30</td><td>&quot;20250830&quot;</td><td>2025-08-30</td><td>20210901</td><td>2021-09-01</td></tr><tr><td>20200901</td><td>2020-09-01</td><td>&quot;20240901&quot;</td><td>2024-09-01</td><td>20240201</td><td>2024-02-01</td></tr><tr><td>20210827</td><td>2021-08-27</td><td>&quot;20250827&quot;</td><td>2025-08-27</td><td>20220222</td><td>2022-02-22</td></tr><tr><td>20210809</td><td>2021-08-09</td><td>&quot;20250809&quot;</td><td>2025-08-09</td><td>20210809</td><td>2021-08-09</td></tr><tr><td>20211021</td><td>2021-10-21</td><td>&quot;20251021&quot;</td><td>2025-10-21</td><td>20211021</td><td>2021-10-21</td></tr><tr><td>20230901</td><td>2023-09-01</td><td>null</td><td>null</td><td>20230901</td><td>2023-09-01</td></tr><tr><td>20201229</td><td>2020-12-29</td><td>&quot;20241229&quot;</td><td>2024-12-29</td><td>20201229</td><td>2020-12-29</td></tr><tr><td>20221207</td><td>2022-12-07</td><td>&quot;20261207&quot;</td><td>2026-12-07</td><td>20221207</td><td>2022-12-07</td></tr><tr><td>20210819</td><td>2021-08-19</td><td>&quot;20240819&quot;</td><td>2024-08-19</td><td>20210819</td><td>2021-08-19</td></tr></tbody></table></div>"
     },
     "execution_count": 36,
     "metadata": {},
     "output_type": "execute_result"
    }
   ],
   "source": [
    "df_dato = kjoretoy_scan.with_columns(\n",
    "    Førstegangsregistrert_Dato=pl.col(\"tekn_reg_f_g_n\").cast(str).str.strptime(pl.Date, format='%Y %m %d', strict=False),\n",
    "    \n",
    "    EU_Kont_Neste_Dato=pl.col(\"tekn_neste_pkk\").cast(str).str.strptime(pl.Date, format='%Y %m %d', strict=False),\n",
    "    \n",
    "    Registreringsdato_Eier=pl.col(\"tekn_reg_eier_dato\").cast(str).str.strptime(pl.Date, format='%Y %m %d', strict=False)\n",
    ")\n",
    "df_dato.select(['tekn_reg_f_g', 'Førstegangsregistrert_Dato', 'tekn_neste_pkk', 'EU_Kont_Neste_Dato', 'tekn_reg_eier_dato', 'Registreringsdato_Eier'])"
   ],
   "metadata": {
    "collapsed": false,
    "ExecuteTime": {
     "end_time": "2024-03-25T11:28:25.492968800Z",
     "start_time": "2024-03-25T11:28:25.423668800Z"
    }
   },
   "id": "971824bcfbbc0343",
   "execution_count": 36
  },
  {
   "cell_type": "code",
   "outputs": [
    {
     "data": {
      "text/plain": "shape: (554_219, 2)\n┌────────────────┬──────────┐\n│ tekn_drivstoff ┆ Er_Elbil │\n│ ---            ┆ ---      │\n│ str            ┆ bool     │\n╞════════════════╪══════════╡\n│ 2              ┆ false    │\n│ 2              ┆ false    │\n│ 5              ┆ true     │\n│ 2              ┆ false    │\n│ …              ┆ …        │\n│ null           ┆ null     │\n│ 5              ┆ true     │\n│ 5,5            ┆ false    │\n│ 2              ┆ false    │\n└────────────────┴──────────┘",
      "text/html": "<div><style>\n.dataframe > thead > tr,\n.dataframe > tbody > tr {\n  text-align: right;\n  white-space: pre-wrap;\n}\n</style>\n<small>shape: (554_219, 2)</small><table border=\"1\" class=\"dataframe\"><thead><tr><th>tekn_drivstoff</th><th>Er_Elbil</th></tr><tr><td>str</td><td>bool</td></tr></thead><tbody><tr><td>&quot;2&quot;</td><td>false</td></tr><tr><td>&quot;2&quot;</td><td>false</td></tr><tr><td>&quot;5&quot;</td><td>true</td></tr><tr><td>&quot;2&quot;</td><td>false</td></tr><tr><td>&quot;2&quot;</td><td>false</td></tr><tr><td>&quot;5&quot;</td><td>true</td></tr><tr><td>&quot;1,5&quot;</td><td>false</td></tr><tr><td>&quot;1,5,5&quot;</td><td>false</td></tr><tr><td>&quot;2&quot;</td><td>false</td></tr><tr><td>&quot;2&quot;</td><td>false</td></tr><tr><td>&quot;5,5&quot;</td><td>false</td></tr><tr><td>&quot;1,5&quot;</td><td>false</td></tr><tr><td>&hellip;</td><td>&hellip;</td></tr><tr><td>&quot;5&quot;</td><td>true</td></tr><tr><td>&quot;2&quot;</td><td>false</td></tr><tr><td>&quot;1,5,5&quot;</td><td>false</td></tr><tr><td>&quot;5&quot;</td><td>true</td></tr><tr><td>&quot;5,5&quot;</td><td>false</td></tr><tr><td>&quot;5,5&quot;</td><td>false</td></tr><tr><td>&quot;2&quot;</td><td>false</td></tr><tr><td>&quot;2,5&quot;</td><td>false</td></tr><tr><td>null</td><td>null</td></tr><tr><td>&quot;5&quot;</td><td>true</td></tr><tr><td>&quot;5,5&quot;</td><td>false</td></tr><tr><td>&quot;2&quot;</td><td>false</td></tr></tbody></table></div>"
     },
     "execution_count": 61,
     "metadata": {},
     "output_type": "execute_result"
    }
   ],
   "source": [
    "df_elbil = kjoretoy_scan.with_columns(\n",
    "        Er_Elbil=pl.col('tekn_drivstoff') == '5')\n",
    "\n",
    "df_elbil.select(['tekn_drivstoff', 'Er_Elbil'])"
   ],
   "metadata": {
    "collapsed": false,
    "ExecuteTime": {
     "end_time": "2024-03-25T12:00:34.785305Z",
     "start_time": "2024-03-25T12:00:34.761677200Z"
    }
   },
   "id": "f93c1cf9286a2622",
   "execution_count": 61
  },
  {
   "cell_type": "code",
   "outputs": [
    {
     "data": {
      "text/plain": "shape: (477_450, 9)\n┌───────────┬───────────┬───────────┬───────────┬───┬───────────┬───────────┬───────────┬──────────┐\n│ tekn_reg_ ┆ tekn_reg_ ┆ tekn_aksl ┆ tekn_merk ┆ … ┆ tekn_nest ┆ tekn_farg ┆ tekn_kjtg ┆ Er_Elbil │\n│ f_g_n     ┆ eier_dato ┆ er_drift  ┆ e         ┆   ┆ e_pkk     ┆ e         ┆ rp        ┆ ---      │\n│ ---       ┆ ---       ┆ ---       ┆ ---       ┆   ┆ ---       ┆ ---       ┆ ---       ┆ bool     │\n│ i64       ┆ i64       ┆ i64       ┆ i64       ┆   ┆ str       ┆ str       ┆ i64       ┆          │\n╞═══════════╪═══════════╪═══════════╪═══════════╪═══╪═══════════╪═══════════╪═══════════╪══════════╡\n│ 20211013  ┆ 20211013  ┆ 2         ┆ 3900      ┆ … ┆ 20251013  ┆ 05        ┆ 315       ┆ false    │\n│ 20200129  ┆ 20200129  ┆ 2         ┆ 5750      ┆ … ┆ 20260129  ┆ 06        ┆ 315       ┆ false    │\n│ 20231129  ┆ 20231129  ┆ 1         ┆ 2600      ┆ … ┆ 20271129  ┆ 06        ┆ 101       ┆ true     │\n│ 20200127  ┆ 20200127  ┆ 2         ┆ 5750      ┆ … ┆ 20240127  ┆ 01        ┆ 315       ┆ false    │\n│ …         ┆ …         ┆ …         ┆ …         ┆ … ┆ …         ┆ …         ┆ …         ┆ …        │\n│ 20211021  ┆ 20211021  ┆ 2         ┆ 3900      ┆ … ┆ 20251021  ┆ 03        ┆ 101       ┆ false    │\n│ 20201229  ┆ 20201229  ┆ 1         ┆ 4000      ┆ … ┆ 20241229  ┆ 02        ┆ 101       ┆ true     │\n│ 20221207  ┆ 20221207  ┆ 2         ┆ 4360      ┆ … ┆ 20261207  ┆ 03        ┆ 101       ┆ false    │\n│ 20210819  ┆ 20210819  ┆ 1         ┆ 3900      ┆ … ┆ 20240819  ┆ 09        ┆ 361       ┆ false    │\n└───────────┴───────────┴───────────┴───────────┴───┴───────────┴───────────┴───────────┴──────────┘",
      "text/html": "<div><style>\n.dataframe > thead > tr,\n.dataframe > tbody > tr {\n  text-align: right;\n  white-space: pre-wrap;\n}\n</style>\n<small>shape: (477_450, 9)</small><table border=\"1\" class=\"dataframe\"><thead><tr><th>tekn_reg_f_g_n</th><th>tekn_reg_eier_dato</th><th>tekn_aksler_drift</th><th>tekn_merke</th><th>tekn_drivstoff</th><th>tekn_neste_pkk</th><th>tekn_farge</th><th>tekn_kjtgrp</th><th>Er_Elbil</th></tr><tr><td>i64</td><td>i64</td><td>i64</td><td>i64</td><td>str</td><td>str</td><td>str</td><td>i64</td><td>bool</td></tr></thead><tbody><tr><td>20211013</td><td>20211013</td><td>2</td><td>3900</td><td>&quot;2&quot;</td><td>&quot;20251013&quot;</td><td>&quot;05&quot;</td><td>315</td><td>false</td></tr><tr><td>20200129</td><td>20200129</td><td>2</td><td>5750</td><td>&quot;2&quot;</td><td>&quot;20260129&quot;</td><td>&quot;06&quot;</td><td>315</td><td>false</td></tr><tr><td>20231129</td><td>20231129</td><td>1</td><td>2600</td><td>&quot;5&quot;</td><td>&quot;20271129&quot;</td><td>&quot;06&quot;</td><td>101</td><td>true</td></tr><tr><td>20200127</td><td>20200127</td><td>2</td><td>5750</td><td>&quot;2&quot;</td><td>&quot;20240127&quot;</td><td>&quot;01&quot;</td><td>315</td><td>false</td></tr><tr><td>20200519</td><td>20200519</td><td>1</td><td>5750</td><td>&quot;2&quot;</td><td>&quot;20240519&quot;</td><td>&quot;01&quot;</td><td>315</td><td>false</td></tr><tr><td>20200911</td><td>20220216</td><td>1</td><td>5150</td><td>&quot;5&quot;</td><td>&quot;20240911&quot;</td><td>&quot;01&quot;</td><td>101</td><td>true</td></tr><tr><td>20220512</td><td>20220512</td><td>1</td><td>5480</td><td>&quot;1,5&quot;</td><td>&quot;20260512&quot;</td><td>&quot;04&quot;</td><td>101</td><td>false</td></tr><tr><td>20221104</td><td>20221104</td><td>2</td><td>5480</td><td>&quot;1,5,5&quot;</td><td>&quot;20261104&quot;</td><td>&quot;06&quot;</td><td>101</td><td>false</td></tr><tr><td>20210421</td><td>20210421</td><td>2</td><td>5480</td><td>&quot;2&quot;</td><td>&quot;20250421&quot;</td><td>&quot;01&quot;</td><td>315</td><td>false</td></tr><tr><td>20231027</td><td>20231027</td><td>2</td><td>8670</td><td>&quot;2&quot;</td><td>&quot;79&quot;</td><td>&quot;06&quot;</td><td>401</td><td>false</td></tr><tr><td>20230502</td><td>20230502</td><td>2</td><td>4360</td><td>&quot;5,5&quot;</td><td>&quot;20270502&quot;</td><td>&quot;01&quot;</td><td>101</td><td>false</td></tr><tr><td>20220331</td><td>20230206</td><td>2</td><td>2600</td><td>&quot;1,5&quot;</td><td>&quot;20260331&quot;</td><td>&quot;01&quot;</td><td>101</td><td>false</td></tr><tr><td>&hellip;</td><td>&hellip;</td><td>&hellip;</td><td>&hellip;</td><td>&hellip;</td><td>&hellip;</td><td>&hellip;</td><td>&hellip;</td><td>&hellip;</td></tr><tr><td>20221209</td><td>20221209</td><td>2</td><td>3900</td><td>&quot;5&quot;</td><td>&quot;20261209&quot;</td><td>&quot;05&quot;</td><td>101</td><td>true</td></tr><tr><td>20230420</td><td>20230420</td><td>2</td><td>2001</td><td>&quot;5&quot;</td><td>&quot;20270420&quot;</td><td>&quot;02&quot;</td><td>101</td><td>true</td></tr><tr><td>20201218</td><td>20201218</td><td>2</td><td>5040</td><td>&quot;2&quot;</td><td>&quot;20241222&quot;</td><td>&quot;01&quot;</td><td>375</td><td>false</td></tr><tr><td>20210330</td><td>20211216</td><td>2</td><td>5480</td><td>&quot;1,5,5&quot;</td><td>&quot;20250330&quot;</td><td>&quot;05&quot;</td><td>101</td><td>false</td></tr><tr><td>20210830</td><td>20210901</td><td>1</td><td>5150</td><td>&quot;5&quot;</td><td>&quot;20250830&quot;</td><td>&quot;03&quot;</td><td>101</td><td>true</td></tr><tr><td>20200901</td><td>20240201</td><td>2</td><td>4360</td><td>&quot;5,5&quot;</td><td>&quot;20240901&quot;</td><td>&quot;06&quot;</td><td>101</td><td>false</td></tr><tr><td>20210827</td><td>20220222</td><td>2</td><td>5800</td><td>&quot;5,5&quot;</td><td>&quot;20250827&quot;</td><td>&quot;01&quot;</td><td>101</td><td>false</td></tr><tr><td>20210809</td><td>20210809</td><td>1</td><td>258</td><td>&quot;2&quot;</td><td>&quot;20250809&quot;</td><td>&quot;03&quot;</td><td>316</td><td>false</td></tr><tr><td>20211021</td><td>20211021</td><td>2</td><td>3900</td><td>&quot;2,5&quot;</td><td>&quot;20251021&quot;</td><td>&quot;03&quot;</td><td>101</td><td>false</td></tr><tr><td>20201229</td><td>20201229</td><td>1</td><td>4000</td><td>&quot;5&quot;</td><td>&quot;20241229&quot;</td><td>&quot;02&quot;</td><td>101</td><td>true</td></tr><tr><td>20221207</td><td>20221207</td><td>2</td><td>4360</td><td>&quot;5,5&quot;</td><td>&quot;20261207&quot;</td><td>&quot;03&quot;</td><td>101</td><td>false</td></tr><tr><td>20210819</td><td>20210819</td><td>1</td><td>3900</td><td>&quot;2&quot;</td><td>&quot;20240819&quot;</td><td>&quot;09&quot;</td><td>361</td><td>false</td></tr></tbody></table></div>"
     },
     "execution_count": 71,
     "metadata": {},
     "output_type": "execute_result"
    }
   ],
   "source": [
    "kjoretoy_oppg = pl.read_parquet(\"kjoretoyinfo_fra_2020_oppg_5_6.parquet\")\n",
    "\n",
    "df_kjoretoy_preppet = kjoretoy_oppg.select(\n",
    "    'tekn_reg_f_g_n', 'tekn_reg_eier_dato', 'tekn_aksler_drift', 'tekn_merke', 'tekn_drivstoff', 'tekn_neste_pkk', 'tekn_farge', 'tekn_kjtgrp',\n",
    "    \n",
    "    Er_Elbil=pl.col('tekn_drivstoff') == '5'\n",
    ")\n",
    "file_path = 'kjoretoy_preppet'\n",
    "df_kjoretoy_preppet.write_parquet(file_path)\n",
    "\n",
    "oppgave_utført= pl.read_parquet(\"kjoretoy_preppet\")\n",
    "oppgave_utført"
   ],
   "metadata": {
    "collapsed": false,
    "ExecuteTime": {
     "end_time": "2024-03-25T12:25:51.536195Z",
     "start_time": "2024-03-25T12:25:51.339398300Z"
    }
   },
   "id": "408f0e590cabdc72",
   "execution_count": 71
  },
  {
   "cell_type": "code",
   "outputs": [],
   "source": [],
   "metadata": {
    "collapsed": false
   },
   "id": "a22191d28bfc5633"
  }
 ],
 "metadata": {
  "kernelspec": {
   "display_name": "Python 3",
   "language": "python",
   "name": "python3"
  },
  "language_info": {
   "codemirror_mode": {
    "name": "ipython",
    "version": 2
   },
   "file_extension": ".py",
   "mimetype": "text/x-python",
   "name": "python",
   "nbconvert_exporter": "python",
   "pygments_lexer": "ipython2",
   "version": "2.7.6"
  }
 },
 "nbformat": 4,
 "nbformat_minor": 5
}
