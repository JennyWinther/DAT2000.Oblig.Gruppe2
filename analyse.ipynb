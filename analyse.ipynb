{
 "cells": [
  {
   "cell_type": "markdown",
   "source": [
    "Oppgave 1.7: Hvor mange elbiler ble førstegangsregistrert i 2022\n",
    "    Leser fra preppet parquet fil laget i oppg. 1.6"
   ],
   "metadata": {
    "collapsed": false
   },
   "id": "7c1626eea9c33c76"
  },
  {
   "cell_type": "code",
   "outputs": [
    {
     "name": "stdout",
     "output_type": "stream",
     "text": [
      "Antall Elbiler registrert i 2022 er: 37249\n"
     ]
    }
   ],
   "source": [
    "import polars as pl\n",
    "\n",
    "kp = pl.read_parquet('kjoretoy_preppet.parquet')\n",
    "\n",
    "df_ant_el_2022 = kp.filter(\n",
    "    (pl.col('tekn_reg_f_g_n').cast(str).str.contains('2022')) \n",
    "    & (pl.col('Er_Elbil') == True)\n",
    ")\n",
    "\n",
    "print(f\"Antall Elbiler registrert i 2022 er: {df_ant_el_2022.height}\")"
   ],
   "metadata": {
    "collapsed": true,
    "ExecuteTime": {
     "end_time": "2024-03-26T11:00:36.678501500Z",
     "start_time": "2024-03-26T11:00:36.568024300Z"
    }
   },
   "id": "initial_id",
   "execution_count": 44
  },
  {
   "cell_type": "markdown",
   "source": [
    "Oppgave 1.8: Hvor mange prosent av persbilene solgt i 2022 var elbiler\n",
    "    Her leser vi fra tekn_reg_eier_dato og sjekker at datoen starter med året 2022, da det er slik dataen er strukturert."
   ],
   "metadata": {
    "collapsed": false
   },
   "id": "e94024fe01027a74"
  },
  {
   "cell_type": "code",
   "outputs": [
    {
     "name": "stdout",
     "output_type": "stream",
     "text": [
      "Antall Elbiler registrert på ny eier i 2022: 38670\n",
      "Antall alle biler registrert på ny eier i 2022: 133994\n",
      "Prosent som er elbil: 28.86\n"
     ]
    }
   ],
   "source": [
    "antallElbil = len(kp.filter((pl.col('tekn_reg_eier_dato').cast(str).str.starts_with('2022')) & (pl.col('Er_Elbil') == True)))\n",
    "\n",
    "antallBilerTotalt = len(kp.filter(pl.col('tekn_reg_eier_dato').cast(str).str.starts_with('2022')))\n",
    "\n",
    "prosent =((antallElbil / antallBilerTotalt) * 100).__round__(2)\n",
    "\n",
    "print(f\"Antall Elbiler registrert på ny eier i 2022: {antallElbil}\")\n",
    "print(f\"Antall alle biler registrert på ny eier i 2022: {antallBilerTotalt}\")\n",
    "print(f\"Prosent som er elbil: {prosent}\")"
   ],
   "metadata": {
    "collapsed": false,
    "ExecuteTime": {
     "end_time": "2024-03-26T10:46:14.563155Z",
     "start_time": "2024-03-26T10:46:14.480280300Z"
    }
   },
   "id": "8221ea3b0416c6ca",
   "execution_count": 42
  },
  {
   "cell_type": "markdown",
   "source": [
    "Oppg 1.9: Hvilken bilmodell var mest populær i 2022\n",
    "    Jeg tolker denne oppgaven til å bety mest populær å kjøpe, ergo vi ser på førstegangsregistrerte biler. \n",
    "    Vi filtrerer ut alle biler fra 2022, og teller antall hendelser av modellen. Deretter sorterer vi listen etter count, synkende."
   ],
   "metadata": {
    "collapsed": false
   },
   "id": "354a549702665c0f"
  },
  {
   "cell_type": "code",
   "outputs": [
    {
     "data": {
      "text/plain": "shape: (1_592, 2)\n┌─────────────────┬───────┐\n│ tekn_modell     ┆ count │\n│ ---             ┆ ---   │\n│ str             ┆ u32   │\n╞═════════════════╪═══════╡\n│ Model Y         ┆ 8719  │\n│ ID.4 GTX 220 KW ┆ 4021  │\n│ XC40            ┆ 3001  │\n│ IONIQ5          ┆ 2890  │\n│ …               ┆ …     │\n│ E 320 KOMBI     ┆ 1     │\n│ AMG GT R        ┆ 1     │\n│ X3 xDrive35d    ┆ 1     │\n│ 330 CIA         ┆ 1     │\n└─────────────────┴───────┘",
      "text/html": "<div><style>\n.dataframe > thead > tr,\n.dataframe > tbody > tr {\n  text-align: right;\n  white-space: pre-wrap;\n}\n</style>\n<small>shape: (1_592, 2)</small><table border=\"1\" class=\"dataframe\"><thead><tr><th>tekn_modell</th><th>count</th></tr><tr><td>str</td><td>u32</td></tr></thead><tbody><tr><td>&quot;Model Y&quot;</td><td>8719</td></tr><tr><td>&quot;ID.4 GTX 220 K…</td><td>4021</td></tr><tr><td>&quot;XC40&quot;</td><td>3001</td></tr><tr><td>&quot;IONIQ5&quot;</td><td>2890</td></tr><tr><td>&quot;ENYAQ 80X&quot;</td><td>2799</td></tr><tr><td>&quot;Polestar 2&quot;</td><td>2413</td></tr><tr><td>&quot;Mustang Mach-E…</td><td>2389</td></tr><tr><td>&quot;RAV4&quot;</td><td>2009</td></tr><tr><td>&quot;E TRON 55&quot;</td><td>1975</td></tr><tr><td>&quot;Kona&quot;</td><td>1918</td></tr><tr><td>&quot;C40&quot;</td><td>1893</td></tr><tr><td>&quot;i4 M50&quot;</td><td>1871</td></tr><tr><td>&hellip;</td><td>&hellip;</td></tr><tr><td>&quot;AC Cobra repli…</td><td>1</td></tr><tr><td>&quot;CAYMAN&quot;</td><td>1</td></tr><tr><td>&quot;SL 450&quot;</td><td>1</td></tr><tr><td>&quot;110F&quot;</td><td>1</td></tr><tr><td>&quot;LS 600h L&quot;</td><td>1</td></tr><tr><td>&quot;RANGE ROVER SP…</td><td>1</td></tr><tr><td>&quot;645 CI&quot;</td><td>1</td></tr><tr><td>&quot;340i&quot;</td><td>1</td></tr><tr><td>&quot;E 320 KOMBI&quot;</td><td>1</td></tr><tr><td>&quot;AMG GT R&quot;</td><td>1</td></tr><tr><td>&quot;X3 xDrive35d&quot;</td><td>1</td></tr><tr><td>&quot;330 CIA&quot;</td><td>1</td></tr></tbody></table></div>"
     },
     "execution_count": 46,
     "metadata": {},
     "output_type": "execute_result"
    }
   ],
   "source": [
    "biler2022 = kp.filter(pl.col('tekn_reg_f_g_n').cast(str).str.starts_with('2022') & (pl.col('tekn_kjtgrp') == 101))\n",
    "\n",
    "populæreBiler = biler2022.group_by(\"tekn_modell\").count()\n",
    "\n",
    "populæreBiler.sort(pl.col('count'), descending=True)"
   ],
   "metadata": {
    "collapsed": false,
    "ExecuteTime": {
     "end_time": "2024-03-26T11:03:21.610368900Z",
     "start_time": "2024-03-26T11:03:21.546067600Z"
    }
   },
   "id": "6d8356c1d9a5985f",
   "execution_count": 46
  },
  {
   "cell_type": "markdown",
   "source": [
    "Oppg 1.10: Hvor mange gule kjøretøy ble solgt i mai 2022?"
   ],
   "metadata": {
    "collapsed": false
   },
   "id": "40ace91271a4f097"
  },
  {
   "cell_type": "code",
   "outputs": [],
   "source": [],
   "metadata": {
    "collapsed": false
   },
   "id": "d927e423188a76d2"
  }
 ],
 "metadata": {
  "kernelspec": {
   "display_name": "Python 3",
   "language": "python",
   "name": "python3"
  },
  "language_info": {
   "codemirror_mode": {
    "name": "ipython",
    "version": 2
   },
   "file_extension": ".py",
   "mimetype": "text/x-python",
   "name": "python",
   "nbconvert_exporter": "python",
   "pygments_lexer": "ipython2",
   "version": "2.7.6"
  }
 },
 "nbformat": 4,
 "nbformat_minor": 5
}
