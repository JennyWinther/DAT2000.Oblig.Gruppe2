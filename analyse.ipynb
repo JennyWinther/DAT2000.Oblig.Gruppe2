{
 "cells": [
  {
   "cell_type": "code",
   "execution_count": 29,
   "id": "initial_id",
   "metadata": {
    "collapsed": true,
    "ExecuteTime": {
     "end_time": "2024-03-25T13:04:59.625572800Z",
     "start_time": "2024-03-25T13:04:59.554262200Z"
    }
   },
   "outputs": [
    {
     "name": "stdout",
     "output_type": "stream",
     "text": [
      "Antall Elbiler registrert i 2022 er: 37249\n"
     ]
    }
   ],
   "source": [
    "import polars as pl\n",
    "\n",
    "kp = pl.read_parquet('kjoretoy_preppet')\n",
    "\n",
    "df_ant_el_2022 = kp.filter(\n",
    "    (pl.col('tekn_reg_f_g_n').cast(str).str.contains('2022')) \n",
    "    & (pl.col('Er_Elbil') == True)\n",
    ")\n",
    "\n",
    "print(f\"Antall Elbiler registrert i 2022 er: {df_ant_el_2022.height}\")"
   ]
  },
  {
   "cell_type": "code",
   "outputs": [
    {
     "ename": "AttributeError",
     "evalue": "'int' object has no attribute 'height'",
     "output_type": "error",
     "traceback": [
      "\u001B[1;31m---------------------------------------------------------------------------\u001B[0m",
      "\u001B[1;31mAttributeError\u001B[0m                            Traceback (most recent call last)",
      "Cell \u001B[1;32mIn[53], line 8\u001B[0m\n\u001B[0;32m      3\u001B[0m df_prosent \u001B[38;5;241m=\u001B[39m kp\u001B[38;5;241m.\u001B[39mselect(\n\u001B[0;32m      4\u001B[0m     PersBil_Prosent_Er_El \u001B[38;5;241m=\u001B[39m (pl\u001B[38;5;241m.\u001B[39mcol(\u001B[38;5;124m'\u001B[39m\u001B[38;5;124mtekn_reg_f_g_n\u001B[39m\u001B[38;5;124m'\u001B[39m)\u001B[38;5;241m.\u001B[39mlen() \u001B[38;5;241m/\u001B[39m antall_Elbil_2022)\u001B[38;5;241m.\u001B[39msum()\u001B[38;5;241m.\u001B[39mround(\u001B[38;5;241m2\u001B[39m)\n\u001B[0;32m      5\u001B[0m )\n\u001B[0;32m      7\u001B[0m totaleBiler \u001B[38;5;241m=\u001B[39m kp\u001B[38;5;241m.\u001B[39mselect(pl\u001B[38;5;241m.\u001B[39mcol(\u001B[38;5;124m'\u001B[39m\u001B[38;5;124mtekn_reg_f_g_n\u001B[39m\u001B[38;5;124m'\u001B[39m)\u001B[38;5;241m.\u001B[39mlen())\n\u001B[1;32m----> 8\u001B[0m prosent \u001B[38;5;241m=\u001B[39m (\u001B[43mantall_Elbil_2022\u001B[49m\u001B[38;5;241;43m.\u001B[39;49m\u001B[43mheight\u001B[49m \u001B[38;5;241m/\u001B[39m totaleBiler) \u001B[38;5;241m*\u001B[39m \u001B[38;5;241m100\u001B[39m\n\u001B[0;32m      9\u001B[0m \u001B[38;5;28mprint\u001B[39m(\u001B[38;5;124mf\u001B[39m\u001B[38;5;124m\"\u001B[39m\u001B[38;5;124mAntall biler totalt: \u001B[39m\u001B[38;5;132;01m{\u001B[39;00mtotaleBiler\u001B[38;5;132;01m}\u001B[39;00m\u001B[38;5;124m  Antall elbiler: \u001B[39m\u001B[38;5;132;01m{\u001B[39;00mantall_Elbil_2022\u001B[38;5;132;01m}\u001B[39;00m\u001B[38;5;124m  Prosent: \u001B[39m\u001B[38;5;132;01m{\u001B[39;00mprosent\u001B[38;5;132;01m}\u001B[39;00m\u001B[38;5;124m\"\u001B[39m)\n\u001B[0;32m     10\u001B[0m df_prosent\n",
      "\u001B[1;31mAttributeError\u001B[0m: 'int' object has no attribute 'height'"
     ]
    }
   ],
   "source": [
    "antall_Elbil_2022 = (df_ant_el_2022.height)\n",
    "\n",
    "df_prosent = kp.select(\n",
    "    PersBil_Prosent_Er_El = (pl.col('tekn_reg_f_g_n').len() / antall_Elbil_2022).sum().round(2)\n",
    ")\n",
    "\n",
    "totaleBiler = kp.select(pl.col('tekn_reg_f_g_n').len())\n",
    "HER ER DET NOE FEEEEEEIL\n",
    "print(f\"Antall biler totalt: {totaleBiler}  Antall elbiler: {antall_Elbil_2022}  Prosent: {prosent}\")\n",
    "df_prosent"
   ],
   "metadata": {
    "collapsed": false,
    "ExecuteTime": {
     "end_time": "2024-03-25T13:35:03.721890Z",
     "start_time": "2024-03-25T13:35:03.696058200Z"
    }
   },
   "id": "8221ea3b0416c6ca",
   "execution_count": 53
  },
  {
   "cell_type": "code",
   "outputs": [],
   "source": [],
   "metadata": {
    "collapsed": false
   },
   "id": "6d8356c1d9a5985f"
  }
 ],
 "metadata": {
  "kernelspec": {
   "display_name": "Python 3",
   "language": "python",
   "name": "python3"
  },
  "language_info": {
   "codemirror_mode": {
    "name": "ipython",
    "version": 2
   },
   "file_extension": ".py",
   "mimetype": "text/x-python",
   "name": "python",
   "nbconvert_exporter": "python",
   "pygments_lexer": "ipython2",
   "version": "2.7.6"
  }
 },
 "nbformat": 4,
 "nbformat_minor": 5
}
