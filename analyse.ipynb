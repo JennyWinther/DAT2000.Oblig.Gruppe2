{
 "cells": [
  {
   "cell_type": "markdown",
   "source": [
    "Oppgave 1.7: Hvor mange elbiler ble førstegangsregistrert i 2022\n",
    "    Leser fra preppet parquet fil laget i oppg. 1.6"
   ],
   "metadata": {
    "collapsed": false
   },
   "id": "7c1626eea9c33c76"
  },
  {
   "cell_type": "code",
   "outputs": [
    {
     "name": "stdout",
     "output_type": "stream",
     "text": [
      "Antall Elbiler registrert i 2022 er: 37249\n"
     ]
    }
   ],
   "source": [
    "import polars as pl\n",
    "\n",
    "kp = pl.read_parquet('kjoretoy_preppet.parquet')\n",
    "\n",
    "df_ant_el_2022 = kp.filter(\n",
    "    (pl.col('tekn_reg_f_g_n').cast(str).str.contains('2022')) \n",
    "    & (pl.col('Er_Elbil') == True)\n",
    ")\n",
    "\n",
    "print(f\"Antall Elbiler registrert i 2022 er: {df_ant_el_2022.height}\")"
   ],
   "metadata": {
    "collapsed": true,
    "ExecuteTime": {
     "end_time": "2024-03-26T11:00:36.678501500Z",
     "start_time": "2024-03-26T11:00:36.568024300Z"
    }
   },
   "id": "initial_id",
   "execution_count": 44
  },
  {
   "cell_type": "markdown",
   "source": [
    "Oppgave 1.8: Hvor mange prosent av persbilene solgt i 2022 var elbiler\n",
    "    Her leser vi fra tekn_reg_eier_dato og sjekker at datoen starter med året 2022, da det er slik dataen er strukturert."
   ],
   "metadata": {
    "collapsed": false
   },
   "id": "e94024fe01027a74"
  },
  {
   "cell_type": "code",
   "outputs": [
    {
     "name": "stdout",
     "output_type": "stream",
     "text": [
      "Antall Elbiler registrert på ny eier i 2022: 38670\n",
      "Antall alle biler registrert på ny eier i 2022: 133994\n",
      "Prosent som er elbil: 28.86\n"
     ]
    }
   ],
   "source": [
    "antallElbil = len(kp.filter((pl.col('tekn_reg_eier_dato').cast(str).str.starts_with('2022')) & (pl.col('Er_Elbil') == True)))\n",
    "\n",
    "antallBilerTotalt = len(kp.filter(pl.col('tekn_reg_eier_dato').cast(str).str.starts_with('2022')))\n",
    "\n",
    "prosent =((antallElbil / antallBilerTotalt) * 100).__round__(2)\n",
    "\n",
    "print(f\"Antall Elbiler registrert på ny eier i 2022: {antallElbil}\")\n",
    "print(f\"Antall alle biler registrert på ny eier i 2022: {antallBilerTotalt}\")\n",
    "print(f\"Prosent som er elbil: {prosent}\")"
   ],
   "metadata": {
    "collapsed": false,
    "ExecuteTime": {
     "end_time": "2024-03-26T10:46:14.563155Z",
     "start_time": "2024-03-26T10:46:14.480280300Z"
    }
   },
   "id": "8221ea3b0416c6ca",
   "execution_count": 42
  },
  {
   "cell_type": "markdown",
   "source": [
    "Oppg 1.9: Hvilken bilmodell var mest populær i 2022\n",
    "    Jeg tolker denne oppgaven til å bety mest populær å kjøpe, ergo vi ser på førstegangsregistrerte biler. \n",
    "    Vi filtrerer ut alle biler fra 2022, og teller antall hendelser av modellen. Deretter sorterer vi listen etter count, synkende.\n",
    "    Hjelpedatasett Kjøretøygrupper er brukt ved siden av. "
   ],
   "metadata": {
    "collapsed": false
   },
   "id": "354a549702665c0f"
  },
  {
   "cell_type": "code",
   "outputs": [
    {
     "data": {
      "text/plain": "shape: (1_592, 2)\n┌─────────────────┬───────┐\n│ tekn_modell     ┆ count │\n│ ---             ┆ ---   │\n│ str             ┆ u32   │\n╞═════════════════╪═══════╡\n│ Model Y         ┆ 8719  │\n│ ID.4 GTX 220 KW ┆ 4021  │\n│ XC40            ┆ 3001  │\n│ IONIQ5          ┆ 2890  │\n│ …               ┆ …     │\n│ E 320 KOMBI     ┆ 1     │\n│ AMG GT R        ┆ 1     │\n│ X3 xDrive35d    ┆ 1     │\n│ 330 CIA         ┆ 1     │\n└─────────────────┴───────┘",
      "text/html": "<div><style>\n.dataframe > thead > tr,\n.dataframe > tbody > tr {\n  text-align: right;\n  white-space: pre-wrap;\n}\n</style>\n<small>shape: (1_592, 2)</small><table border=\"1\" class=\"dataframe\"><thead><tr><th>tekn_modell</th><th>count</th></tr><tr><td>str</td><td>u32</td></tr></thead><tbody><tr><td>&quot;Model Y&quot;</td><td>8719</td></tr><tr><td>&quot;ID.4 GTX 220 K…</td><td>4021</td></tr><tr><td>&quot;XC40&quot;</td><td>3001</td></tr><tr><td>&quot;IONIQ5&quot;</td><td>2890</td></tr><tr><td>&quot;ENYAQ 80X&quot;</td><td>2799</td></tr><tr><td>&quot;Polestar 2&quot;</td><td>2413</td></tr><tr><td>&quot;Mustang Mach-E…</td><td>2389</td></tr><tr><td>&quot;RAV4&quot;</td><td>2009</td></tr><tr><td>&quot;E TRON 55&quot;</td><td>1975</td></tr><tr><td>&quot;Kona&quot;</td><td>1918</td></tr><tr><td>&quot;C40&quot;</td><td>1893</td></tr><tr><td>&quot;i4 M50&quot;</td><td>1871</td></tr><tr><td>&hellip;</td><td>&hellip;</td></tr><tr><td>&quot;AC Cobra repli…</td><td>1</td></tr><tr><td>&quot;CAYMAN&quot;</td><td>1</td></tr><tr><td>&quot;SL 450&quot;</td><td>1</td></tr><tr><td>&quot;110F&quot;</td><td>1</td></tr><tr><td>&quot;LS 600h L&quot;</td><td>1</td></tr><tr><td>&quot;RANGE ROVER SP…</td><td>1</td></tr><tr><td>&quot;645 CI&quot;</td><td>1</td></tr><tr><td>&quot;340i&quot;</td><td>1</td></tr><tr><td>&quot;E 320 KOMBI&quot;</td><td>1</td></tr><tr><td>&quot;AMG GT R&quot;</td><td>1</td></tr><tr><td>&quot;X3 xDrive35d&quot;</td><td>1</td></tr><tr><td>&quot;330 CIA&quot;</td><td>1</td></tr></tbody></table></div>"
     },
     "execution_count": 46,
     "metadata": {},
     "output_type": "execute_result"
    }
   ],
   "source": [
    "biler2022 = kp.filter(pl.col('tekn_reg_f_g_n').cast(str).str.starts_with('2022') & (pl.col('tekn_kjtgrp') == 101))\n",
    "\n",
    "populæreBiler = biler2022.group_by(\"tekn_modell\").count()\n",
    "\n",
    "populæreBiler.sort(pl.col('count'), descending=True)"
   ],
   "metadata": {
    "collapsed": false,
    "ExecuteTime": {
     "end_time": "2024-03-26T11:03:21.610368900Z",
     "start_time": "2024-03-26T11:03:21.546067600Z"
    }
   },
   "id": "6d8356c1d9a5985f",
   "execution_count": 46
  },
  {
   "cell_type": "markdown",
   "source": [
    "Oppg 1.10: Hvor mange gule kjøretøy ble solgt i mai 2022?\n",
    "    Sorterer datasettet på førstegangsregistrerte biler i mai, 2022, som også er av typen personbil. \n",
    "    For gøy regner jeg ut både antall gule personbiler, og gule kjøretøy av alle typer totalt. \n",
    "    Hjelpedatasett Fargekoder er brukt ved siden av. "
   ],
   "metadata": {
    "collapsed": false
   },
   "id": "40ace91271a4f097"
  },
  {
   "cell_type": "code",
   "outputs": [
    {
     "name": "stdout",
     "output_type": "stream",
     "text": [
      "Antall gule personbiler: 33\n",
      "Antall gule kjøretøy totalt: 74\n"
     ]
    }
   ],
   "source": [
    "personbiler = kp.filter(pl.col('tekn_reg_f_g_n').cast(str).str.starts_with('202205') & (pl.col('tekn_kjtgrp') == 101))\n",
    "allekjøretøy = kp.filter(pl.col('tekn_reg_f_g_n').cast(str).str.starts_with('202205'))\n",
    "\n",
    "gulebiler = len(personbiler.filter(pl.col('tekn_farge').cast(str).str.contains('09')))\n",
    "gulekjøretøy = len(allekjøretøy.filter(pl.col('tekn_farge').cast(str).str.contains('09')))\n",
    "\n",
    "print(f\"Antall gule personbiler: {gulebiler}\")\n",
    "print(f\"Antall gule kjøretøy totalt: {gulekjøretøy}\")"
   ],
   "metadata": {
    "collapsed": false,
    "ExecuteTime": {
     "end_time": "2024-03-26T11:31:14.529747100Z",
     "start_time": "2024-03-26T11:31:14.473993500Z"
    }
   },
   "id": "d927e423188a76d2",
   "execution_count": 71
  },
  {
   "cell_type": "markdown",
   "source": [
    "Oppg 1.11: Hvor stor andel av personbilene som selges i Norge har firehjulstrekk?\n",
    "    Siden det ikke defineres noe årstall for salg, så tolker jeg at det betyr alle personbilene noen gang registrert i Norge.\n",
    "    Vi filtrerer først ut alle personbiler, og deretter ut alle som ikke har 2 aksler i drift. "
   ],
   "metadata": {
    "collapsed": false
   },
   "id": "565e22a526e37386"
  },
  {
   "cell_type": "code",
   "outputs": [
    {
     "name": "stdout",
     "output_type": "stream",
     "text": [
      "Antall biler solgt totalt i Norge med firehjulstrekk: 192688\n"
     ]
    }
   ],
   "source": [
    "personbilerAlle = kp.filter(pl.col('tekn_kjtgrp') == 101)\n",
    "\n",
    "firehjulstrekk = len(personbilerAlle.filter(pl.col('tekn_aksler_drift') == 2))\n",
    "\n",
    "print(f\"Antall biler solgt totalt i Norge med firehjulstrekk: {firehjulstrekk}\")"
   ],
   "metadata": {
    "collapsed": false,
    "ExecuteTime": {
     "end_time": "2024-03-26T12:02:30.024224500Z",
     "start_time": "2024-03-26T12:02:29.982684700Z"
    }
   },
   "id": "40b33777bb7b4829",
   "execution_count": 80
  },
  {
   "cell_type": "markdown",
   "source": [
    "Oppg 1.12: Hvilken måned i året førstegangsregistreres det flest biler i Norge?\n",
    "    I denne oppgaven valgte vi å returnere en tabell over alle 12 måneder som viser antall registrerte biler totalt i datasett i denne måneden. \n",
    "    Siden det ikke defineres noe spesielt kjøretøy, valgte vi å definere \"bil\" som alt i hjelpedatasettet Kjøretøygrupper som inneholder ordet \"bil\". (koder: 101-381)\n",
    "    Vi omformer dato til Date, og henter ut måneden. Vi filtrerer ut alle kjøretøy som har gruppe lik eller mindre enn 381. Deretter grupperer vi på måneden, og teller antall som inneholder den måneden. Deretter sorterer vi på count, slik at de mest populære månedene kommer først. \n",
    "    Dette gjelder for alle år sammenlagt.\n",
    "    "
   ],
   "metadata": {
    "collapsed": false
   },
   "id": "170a412755c0e4ef"
  },
  {
   "cell_type": "code",
   "outputs": [
    {
     "data": {
      "text/plain": "shape: (12, 2)\n┌───────┬───────┐\n│ måned ┆ count │\n│ ---   ┆ ---   │\n│ i8    ┆ u32   │\n╞═══════╪═══════╡\n│ 12    ┆ 57978 │\n│ 6     ┆ 41440 │\n│ 3     ┆ 40727 │\n│ 9     ┆ 38833 │\n│ …     ┆ …     │\n│ 4     ┆ 27959 │\n│ 2     ┆ 26791 │\n│ 1     ┆ 24909 │\n│ 7     ┆ 24294 │\n└───────┴───────┘",
      "text/html": "<div><style>\n.dataframe > thead > tr,\n.dataframe > tbody > tr {\n  text-align: right;\n  white-space: pre-wrap;\n}\n</style>\n<small>shape: (12, 2)</small><table border=\"1\" class=\"dataframe\"><thead><tr><th>måned</th><th>count</th></tr><tr><td>i8</td><td>u32</td></tr></thead><tbody><tr><td>12</td><td>57978</td></tr><tr><td>6</td><td>41440</td></tr><tr><td>3</td><td>40727</td></tr><tr><td>9</td><td>38833</td></tr><tr><td>11</td><td>37217</td></tr><tr><td>8</td><td>35557</td></tr><tr><td>5</td><td>31839</td></tr><tr><td>10</td><td>31400</td></tr><tr><td>4</td><td>27959</td></tr><tr><td>2</td><td>26791</td></tr><tr><td>1</td><td>24909</td></tr><tr><td>7</td><td>24294</td></tr></tbody></table></div>"
     },
     "execution_count": 117,
     "metadata": {},
     "output_type": "execute_result"
    }
   ],
   "source": [
    "dato = kp.with_columns(\n",
    "    måned = pl.col('tekn_reg_f_g_n').cast(str).str.strptime(pl.Date, format='%Y %m %d', strict=False).dt.month(), \n",
    ")\n",
    "\n",
    "verifiserteBiler = dato.filter(pl.col('tekn_kjtgrp') <= 381)\n",
    "\n",
    "verifiserteBiler.group_by('måned').count().sort('count', descending=True)"
   ],
   "metadata": {
    "collapsed": false,
    "ExecuteTime": {
     "end_time": "2024-03-26T12:43:07.167783300Z",
     "start_time": "2024-03-26T12:43:07.050119300Z"
    }
   },
   "id": "41cd97b7ecfbb127",
   "execution_count": 117
  },
  {
   "cell_type": "markdown",
   "source": [
    "Oppg 1.13: Hva var den mest populære fargen for førstegangsregistrerte biler i Norge i hvert år?\n",
    "    "
   ],
   "metadata": {
    "collapsed": false
   },
   "id": "16b8ced516877d35"
  },
  {
   "cell_type": "code",
   "outputs": [
    {
     "ename": "SchemaError",
     "evalue": "invalid series dtype: expected `Boolean`, got `u32`",
     "output_type": "error",
     "traceback": [
      "\u001B[1;31m---------------------------------------------------------------------------\u001B[0m",
      "\u001B[1;31mSchemaError\u001B[0m                               Traceback (most recent call last)",
      "Cell \u001B[1;32mIn[155], line 9\u001B[0m\n\u001B[0;32m      5\u001B[0m filtrerteBiler \u001B[38;5;241m=\u001B[39m alleBiler\u001B[38;5;241m.\u001B[39mfilter(pl\u001B[38;5;241m.\u001B[39mcol(\u001B[38;5;124m'\u001B[39m\u001B[38;5;124mtekn_kjtgrp\u001B[39m\u001B[38;5;124m'\u001B[39m) \u001B[38;5;241m<\u001B[39m\u001B[38;5;241m=\u001B[39m \u001B[38;5;241m381\u001B[39m)\n\u001B[0;32m      7\u001B[0m telteFarger \u001B[38;5;241m=\u001B[39m filtrerteBiler\u001B[38;5;241m.\u001B[39mgroup_by([\u001B[38;5;124m'\u001B[39m\u001B[38;5;124mår\u001B[39m\u001B[38;5;124m'\u001B[39m, \u001B[38;5;124m'\u001B[39m\u001B[38;5;124mtekn_farge\u001B[39m\u001B[38;5;124m'\u001B[39m])\u001B[38;5;241m.\u001B[39mcount()\n\u001B[1;32m----> 9\u001B[0m resultat \u001B[38;5;241m=\u001B[39m \u001B[43mtelteFarger\u001B[49m\u001B[38;5;241;43m.\u001B[39;49m\u001B[43mselect\u001B[49m\u001B[43m(\u001B[49m\u001B[38;5;124;43m'\u001B[39;49m\u001B[38;5;124;43mår\u001B[39;49m\u001B[38;5;124;43m'\u001B[39;49m\u001B[43m,\u001B[49m\u001B[43m \u001B[49m\u001B[43mpl\u001B[49m\u001B[38;5;241;43m.\u001B[39;49m\u001B[43mcol\u001B[49m\u001B[43m(\u001B[49m\u001B[38;5;124;43m'\u001B[39;49m\u001B[38;5;124;43mtekn_farge\u001B[39;49m\u001B[38;5;124;43m'\u001B[39;49m\u001B[43m)\u001B[49m\u001B[38;5;241;43m.\u001B[39;49m\u001B[43mfilter\u001B[49m\u001B[43m(\u001B[49m\u001B[43mpl\u001B[49m\u001B[38;5;241;43m.\u001B[39;49m\u001B[43mcol\u001B[49m\u001B[43m(\u001B[49m\u001B[38;5;124;43m'\u001B[39;49m\u001B[38;5;124;43mcount\u001B[39;49m\u001B[38;5;124;43m'\u001B[39;49m\u001B[43m)\u001B[49m\u001B[38;5;241;43m.\u001B[39;49m\u001B[43mmax\u001B[49m\u001B[43m(\u001B[49m\u001B[43m)\u001B[49m\u001B[43m)\u001B[49m\u001B[43m)\u001B[49m\n\u001B[0;32m     10\u001B[0m \u001B[38;5;66;03m#resultat = telteFarger.group_by(['år', pl.col('tekn_farge').count().max()]).count()\u001B[39;00m\n\u001B[0;32m     11\u001B[0m resultat\n",
      "File \u001B[1;32m~\\miniconda3\\Lib\\site-packages\\polars\\dataframe\\frame.py:8060\u001B[0m, in \u001B[0;36mDataFrame.select\u001B[1;34m(self, *exprs, **named_exprs)\u001B[0m\n\u001B[0;32m   7959\u001B[0m \u001B[38;5;28;01mdef\u001B[39;00m \u001B[38;5;21mselect\u001B[39m(\n\u001B[0;32m   7960\u001B[0m     \u001B[38;5;28mself\u001B[39m, \u001B[38;5;241m*\u001B[39mexprs: IntoExpr \u001B[38;5;241m|\u001B[39m Iterable[IntoExpr], \u001B[38;5;241m*\u001B[39m\u001B[38;5;241m*\u001B[39mnamed_exprs: IntoExpr\n\u001B[0;32m   7961\u001B[0m ) \u001B[38;5;241m-\u001B[39m\u001B[38;5;241m>\u001B[39m DataFrame:\n\u001B[0;32m   7962\u001B[0m \u001B[38;5;250m    \u001B[39m\u001B[38;5;124;03m\"\"\"\u001B[39;00m\n\u001B[0;32m   7963\u001B[0m \u001B[38;5;124;03m    Select columns from this DataFrame.\u001B[39;00m\n\u001B[0;32m   7964\u001B[0m \n\u001B[1;32m   (...)\u001B[0m\n\u001B[0;32m   8058\u001B[0m \n\u001B[0;32m   8059\u001B[0m \u001B[38;5;124;03m    \"\"\"\u001B[39;00m\n\u001B[1;32m-> 8060\u001B[0m     \u001B[38;5;28;01mreturn\u001B[39;00m \u001B[38;5;28;43mself\u001B[39;49m\u001B[38;5;241;43m.\u001B[39;49m\u001B[43mlazy\u001B[49m\u001B[43m(\u001B[49m\u001B[43m)\u001B[49m\u001B[38;5;241;43m.\u001B[39;49m\u001B[43mselect\u001B[49m\u001B[43m(\u001B[49m\u001B[38;5;241;43m*\u001B[39;49m\u001B[43mexprs\u001B[49m\u001B[43m,\u001B[49m\u001B[43m \u001B[49m\u001B[38;5;241;43m*\u001B[39;49m\u001B[38;5;241;43m*\u001B[39;49m\u001B[43mnamed_exprs\u001B[49m\u001B[43m)\u001B[49m\u001B[38;5;241;43m.\u001B[39;49m\u001B[43mcollect\u001B[49m\u001B[43m(\u001B[49m\u001B[43m_eager\u001B[49m\u001B[38;5;241;43m=\u001B[39;49m\u001B[38;5;28;43;01mTrue\u001B[39;49;00m\u001B[43m)\u001B[49m\n",
      "File \u001B[1;32m~\\miniconda3\\Lib\\site-packages\\polars\\lazyframe\\frame.py:1749\u001B[0m, in \u001B[0;36mLazyFrame.collect\u001B[1;34m(self, type_coercion, predicate_pushdown, projection_pushdown, simplify_expression, slice_pushdown, comm_subplan_elim, comm_subexpr_elim, no_optimization, streaming, background, _eager)\u001B[0m\n\u001B[0;32m   1746\u001B[0m \u001B[38;5;28;01mif\u001B[39;00m background:\n\u001B[0;32m   1747\u001B[0m     \u001B[38;5;28;01mreturn\u001B[39;00m InProcessQuery(ldf\u001B[38;5;241m.\u001B[39mcollect_concurrently())\n\u001B[1;32m-> 1749\u001B[0m \u001B[38;5;28;01mreturn\u001B[39;00m wrap_df(ldf\u001B[38;5;241m.\u001B[39mcollect())\n",
      "\u001B[1;31mSchemaError\u001B[0m: invalid series dtype: expected `Boolean`, got `u32`"
     ]
    }
   ],
   "source": [
    "alleBiler = kp.with_columns(\n",
    "    år = pl.col('tekn_reg_f_g_n').cast(str).str.strptime(pl.Date, format='%Y %m %d', strict=False).dt.year(),\n",
    ")\n",
    "\n",
    "filtrerteBiler = alleBiler.filter(pl.col('tekn_kjtgrp') <= 381)\n",
    "\n",
    "telteFarger = filtrerteBiler.select('år', '')"
   ],
   "metadata": {
    "collapsed": false,
    "ExecuteTime": {
     "end_time": "2024-03-26T13:23:14.119206300Z",
     "start_time": "2024-03-26T13:23:14.003621700Z"
    }
   },
   "id": "2d57c3d708f26bdb",
   "execution_count": 155
  },
  {
   "cell_type": "code",
   "outputs": [],
   "source": [],
   "metadata": {
    "collapsed": false
   },
   "id": "9e2346bb85495f90"
  }
 ],
 "metadata": {
  "kernelspec": {
   "display_name": "Python 3",
   "language": "python",
   "name": "python3"
  },
  "language_info": {
   "codemirror_mode": {
    "name": "ipython",
    "version": 2
   },
   "file_extension": ".py",
   "mimetype": "text/x-python",
   "name": "python",
   "nbconvert_exporter": "python",
   "pygments_lexer": "ipython2",
   "version": "2.7.6"
  }
 },
 "nbformat": 4,
 "nbformat_minor": 5
}
