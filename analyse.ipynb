{
 "cells": [
  {
   "cell_type": "code",
   "execution_count": 28,
   "id": "initial_id",
   "metadata": {
    "collapsed": true,
    "ExecuteTime": {
     "end_time": "2024-03-25T12:58:12.626079300Z",
     "start_time": "2024-03-25T12:58:12.545571100Z"
    }
   },
   "outputs": [
    {
     "name": "stdout",
     "output_type": "stream",
     "text": [
      "Antall Elbiler registrert i 2022 er: 37249\n"
     ]
    }
   ],
   "source": [
    "import polars as pl\n",
    "\n",
    "kp = pl.read_parquet('kjoretoy_preppet')\n",
    "\n",
    "df_ant_el_2022 = kp.filter(\n",
    "    (pl.col('tekn_reg_f_g_n').cast(str).str.contains('2022')) \n",
    "    & (pl.col('tekn_drivstoff') == '5')\n",
    ")\n",
    "\n",
    "print(f\"Antall Elbiler registrert i 2022 er: {df_ant_el_2022.height}\")"
   ]
  },
  {
   "cell_type": "code",
   "outputs": [],
   "source": [],
   "metadata": {
    "collapsed": false,
    "ExecuteTime": {
     "end_time": "2024-03-25T12:48:22.571091800Z",
     "start_time": "2024-03-25T12:48:22.554073900Z"
    }
   },
   "id": "8221ea3b0416c6ca",
   "execution_count": 17
  },
  {
   "cell_type": "code",
   "outputs": [],
   "source": [],
   "metadata": {
    "collapsed": false
   },
   "id": "6d8356c1d9a5985f"
  }
 ],
 "metadata": {
  "kernelspec": {
   "display_name": "Python 3",
   "language": "python",
   "name": "python3"
  },
  "language_info": {
   "codemirror_mode": {
    "name": "ipython",
    "version": 2
   },
   "file_extension": ".py",
   "mimetype": "text/x-python",
   "name": "python",
   "nbconvert_exporter": "python",
   "pygments_lexer": "ipython2",
   "version": "2.7.6"
  }
 },
 "nbformat": 4,
 "nbformat_minor": 5
}
